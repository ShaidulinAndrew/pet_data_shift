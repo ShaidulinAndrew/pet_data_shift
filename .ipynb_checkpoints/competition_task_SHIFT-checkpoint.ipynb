{
 "cells": [
  {
   "cell_type": "code",
   "execution_count": 1,
   "id": "c6829a6a",
   "metadata": {},
   "outputs": [],
   "source": [
    "import numpy as np\n",
    "import pandas as pd\n",
    "\n",
    "# увеличиваем количество отображаемых столбцов\n",
    "pd.set_option('display.max_columns', 60)"
   ]
  },
  {
   "cell_type": "markdown",
   "id": "f35db867",
   "metadata": {},
   "source": [
    "### __Список исходных переменных включает в себя:__\n",
    "- __acc_now_delinq__ - Количество просроченных счетов заемщика\n",
    "- __addr_state__ - Штат, указанный заемщиком в заявке на кредит\n",
    "- __annual_inc__ - Ежегодный доход, заявленный заемщиком при регистрации.\n",
    "- __chargeoff_within_12_mths__ - Количество списаний за 12 месяцев.\n",
    "- __collections_12_mths_ex_med__ - Количество сборов за 12 месяцев без учета медицинских сборов\n",
    "- __delinq_2yrs__ - Количество случаев просрочки платежа более чем на 30 дней в кредитной истории заемщика за последние 2 года.\n",
    "- __dti__ - Коэффициент, рассчитанный с использованием общей суммы ежемесячных выплат заемщика по общей сумме долговых обязательств, исключая ипотеку и запрошенный кредит LC, разделенный на ежемесячный доход, о котором заемщик сообщает самостоятельно.\n",
    "- __earliest_cr_line__ - Месяц, когда заемщику была открыта самая ранняя кредитная линия, о которой сообщалось.\n",
    "- __emp_length__ - Стаж работы в годах. Возможные значения: от 0 до 10, где 0 означает менее одного года, а 10 означает десять или более лет.\n",
    "- __fico_range_high__ - Верхний граничный диапазон, к которому принадлежит FICO заемщика при выдаче кредита.\n",
    "- __fico_range_low__ - Нижний граничный диапазон, к которому принадлежит FICO заемщика при выдаче кредита.\n",
    "- __funded_amnt__ - Общая сумма, выделенная на этот кредит на тот момент.\n",
    "- __home_ownership__ - Статус домовладения, предоставленный заемщиком при регистрации или полученный из кредитного отчета. АРЕНДА, СОБСТВЕННОСТЬ, ИПОТЕКА, ДРУГОЕ\n",
    "- __inq_last_12m__ - Количество кредитных запросов за последние 12 месяцев\n",
    "- __installment__ - Ежемесячный платеж, причитающийся заемщику в случае выдачи кредита.\n",
    "- __int_rate__ - Процентная ставка по кредиту\n",
    "- __issue_d__ - Месяц, в котором был предоставлен кредит.\n",
    "- __loan_amnt__ - Указанная сумма кредита, заявленная заемщиком. Если в какой-то момент кредитный отдел уменьшит сумму кредита, то это отразится на этой стоимости.\n",
    "- __mort_acc__ - Количество ипотечных счетов.\n",
    "- __mths_since_last_delinq__ - Количество месяцев с момента последней просрочки заемщика.\n",
    "- __mths_since_recent_bc_dlq__ - Количество месяцев с момента последней просрочки по банковской карте.\n",
    "- __mths_since_recent_inq__ - Прошло несколько месяцев с момента последнего запроса.\n",
    "- __num_accts_ever_120_pd__ - Количество счетов, просроченных на 120 или более дней.\n",
    "- __num_actv_bc_tl__ - Количество активных на данный момент счетов банковских карт.\n",
    "- __num_rev_accts__ - Количество возобновляемых счетов.\n",
    "- __num_sats__ - Количество удовлетворительных счетов\n",
    "- __num_tl_120dpd_2m__ - Количество счетов с просрочкой платежа на 120 дней (обновлено за последние 2 месяца).\n",
    "- __num_tl_30dpd__ - Количество счетов с просрочкой платежа на 30 дней (обновлено за последние 2 месяца).\n",
    "- __num_tl_90g_dpd_24m__ - Количество счетов с просрочкой платежа на 90 или более дней за последние 24 месяца.\n",
    "- __num_tl_op_past_12m__ - Количество счетов, открытых за последние 12 месяцев.\n",
    "- __open_acc__ - Количество открытых кредитных линий в кредитном досье заемщика.\n",
    "- __open_il_24m__ - Количество счетов в рассрочку, открытых за последние 24 месяца.\n",
    "- __open_rv_24m__ - Количество возобновляемых сделок, открытых за последние 24 месяца.\n",
    "- __percent_bc_gt_75__ - Процент всех счетов банковских карт > 75% от лимита.\n",
    "- __pub_rec__ - Количество уничижительных публичных записей.\n",
    "- __pub_rec_bankruptcies__ - Количество официально зарегистрированных банкротств\n",
    "- __purpose__ - Категория, предоставленная заемщиком для запроса на кредит.\n",
    "- __revol_util__ - Коэффициент использования возобновляемой линии или сумма кредита, которую заемщик использует по отношению ко всему доступному возобновляемому кредиту.\n",
    "- __tax_liens__ - Количество налоговых залогов.\n",
    "- __term__ - Количество платежей по кредиту. Значения указаны в месяцах и могут быть 36 или 60.\n",
    "- __title__ - Название кредита, предоставленное заемщиком.\n",
    "- __total_acc__ - Общее количество кредитных линий, находящихся в настоящее время в кредитном файле заемщика.\n",
    "- __verification_status__ - Указывает, был ли доход подтвержден LC, не подтвержден или был ли подтвержден источник дохода.\n",
    "- __zip_code;__ - Первые 3 цифры почтового индекса, указанного заемщиком в заявке на кредит."
   ]
  },
  {
   "cell_type": "markdown",
   "id": "13d9fb26",
   "metadata": {},
   "source": [
    "## __Считывание CSV файла в DataFrame__"
   ]
  },
  {
   "cell_type": "code",
   "execution_count": 2,
   "id": "49276e90",
   "metadata": {},
   "outputs": [
    {
     "data": {
      "text/html": [
       "<div>\n",
       "<style scoped>\n",
       "    .dataframe tbody tr th:only-of-type {\n",
       "        vertical-align: middle;\n",
       "    }\n",
       "\n",
       "    .dataframe tbody tr th {\n",
       "        vertical-align: top;\n",
       "    }\n",
       "\n",
       "    .dataframe thead th {\n",
       "        text-align: right;\n",
       "    }\n",
       "</style>\n",
       "<table border=\"1\" class=\"dataframe\">\n",
       "  <thead>\n",
       "    <tr style=\"text-align: right;\">\n",
       "      <th></th>\n",
       "      <th>0</th>\n",
       "      <th>1</th>\n",
       "      <th>2</th>\n",
       "    </tr>\n",
       "  </thead>\n",
       "  <tbody>\n",
       "    <tr>\n",
       "      <th>index</th>\n",
       "      <td>0</td>\n",
       "      <td>1</td>\n",
       "      <td>2</td>\n",
       "    </tr>\n",
       "    <tr>\n",
       "      <th>acc_now_delinq</th>\n",
       "      <td>0.0</td>\n",
       "      <td>0.0</td>\n",
       "      <td>0.0</td>\n",
       "    </tr>\n",
       "    <tr>\n",
       "      <th>addr_state</th>\n",
       "      <td>UT</td>\n",
       "      <td>CA</td>\n",
       "      <td>NV</td>\n",
       "    </tr>\n",
       "    <tr>\n",
       "      <th>annual_inc</th>\n",
       "      <td>80000.0</td>\n",
       "      <td>82000.0</td>\n",
       "      <td>46080.0</td>\n",
       "    </tr>\n",
       "    <tr>\n",
       "      <th>chargeoff_within_12_mths</th>\n",
       "      <td>0.0</td>\n",
       "      <td>0.0</td>\n",
       "      <td>0.0</td>\n",
       "    </tr>\n",
       "    <tr>\n",
       "      <th>collections_12_mths_ex_med</th>\n",
       "      <td>0.0</td>\n",
       "      <td>0.0</td>\n",
       "      <td>0.0</td>\n",
       "    </tr>\n",
       "    <tr>\n",
       "      <th>delinq_2yrs</th>\n",
       "      <td>0.0</td>\n",
       "      <td>0.0</td>\n",
       "      <td>1.0</td>\n",
       "    </tr>\n",
       "    <tr>\n",
       "      <th>dti</th>\n",
       "      <td>30.49</td>\n",
       "      <td>7.0</td>\n",
       "      <td>17.32</td>\n",
       "    </tr>\n",
       "    <tr>\n",
       "      <th>earliest_cr_line</th>\n",
       "      <td>Oct-1996</td>\n",
       "      <td>Mar-1993</td>\n",
       "      <td>Nov-2000</td>\n",
       "    </tr>\n",
       "    <tr>\n",
       "      <th>emp_length</th>\n",
       "      <td>4 years</td>\n",
       "      <td>10+ years</td>\n",
       "      <td>3 years</td>\n",
       "    </tr>\n",
       "    <tr>\n",
       "      <th>fico_range_high</th>\n",
       "      <td>689.0</td>\n",
       "      <td>689.0</td>\n",
       "      <td>674.0</td>\n",
       "    </tr>\n",
       "    <tr>\n",
       "      <th>fico_range_low</th>\n",
       "      <td>685.0</td>\n",
       "      <td>685.0</td>\n",
       "      <td>670.0</td>\n",
       "    </tr>\n",
       "    <tr>\n",
       "      <th>funded_amnt</th>\n",
       "      <td>16000.0</td>\n",
       "      <td>6600.0</td>\n",
       "      <td>10000.0</td>\n",
       "    </tr>\n",
       "    <tr>\n",
       "      <th>home_ownership</th>\n",
       "      <td>RENT</td>\n",
       "      <td>MORTGAGE</td>\n",
       "      <td>MORTGAGE</td>\n",
       "    </tr>\n",
       "    <tr>\n",
       "      <th>inq_last_12m</th>\n",
       "      <td>1.0</td>\n",
       "      <td>0.0</td>\n",
       "      <td>0.0</td>\n",
       "    </tr>\n",
       "    <tr>\n",
       "      <th>installment</th>\n",
       "      <td>539.03</td>\n",
       "      <td>214.27</td>\n",
       "      <td>317.96</td>\n",
       "    </tr>\n",
       "    <tr>\n",
       "      <th>int_rate</th>\n",
       "      <td>12.99%</td>\n",
       "      <td>10.42%</td>\n",
       "      <td>8.99%</td>\n",
       "    </tr>\n",
       "    <tr>\n",
       "      <th>issue_d</th>\n",
       "      <td>Apr-2016</td>\n",
       "      <td>Sep-2017</td>\n",
       "      <td>Aug-2016</td>\n",
       "    </tr>\n",
       "    <tr>\n",
       "      <th>loan_amnt</th>\n",
       "      <td>16000.0</td>\n",
       "      <td>6600.0</td>\n",
       "      <td>10000.0</td>\n",
       "    </tr>\n",
       "    <tr>\n",
       "      <th>mort_acc</th>\n",
       "      <td>5.0</td>\n",
       "      <td>2.0</td>\n",
       "      <td>3.0</td>\n",
       "    </tr>\n",
       "    <tr>\n",
       "      <th>mths_since_last_delinq</th>\n",
       "      <td>50.0</td>\n",
       "      <td>NaN</td>\n",
       "      <td>10.0</td>\n",
       "    </tr>\n",
       "    <tr>\n",
       "      <th>mths_since_recent_bc_dlq</th>\n",
       "      <td>65.0</td>\n",
       "      <td>NaN</td>\n",
       "      <td>NaN</td>\n",
       "    </tr>\n",
       "    <tr>\n",
       "      <th>mths_since_recent_inq</th>\n",
       "      <td>6.0</td>\n",
       "      <td>NaN</td>\n",
       "      <td>13.0</td>\n",
       "    </tr>\n",
       "    <tr>\n",
       "      <th>num_accts_ever_120_pd</th>\n",
       "      <td>3.0</td>\n",
       "      <td>0.0</td>\n",
       "      <td>0.0</td>\n",
       "    </tr>\n",
       "    <tr>\n",
       "      <th>num_actv_bc_tl</th>\n",
       "      <td>4.0</td>\n",
       "      <td>3.0</td>\n",
       "      <td>1.0</td>\n",
       "    </tr>\n",
       "    <tr>\n",
       "      <th>num_rev_accts</th>\n",
       "      <td>17.0</td>\n",
       "      <td>8.0</td>\n",
       "      <td>23.0</td>\n",
       "    </tr>\n",
       "    <tr>\n",
       "      <th>num_sats</th>\n",
       "      <td>14.0</td>\n",
       "      <td>5.0</td>\n",
       "      <td>7.0</td>\n",
       "    </tr>\n",
       "    <tr>\n",
       "      <th>num_tl_120dpd_2m</th>\n",
       "      <td>0.0</td>\n",
       "      <td>0.0</td>\n",
       "      <td>0.0</td>\n",
       "    </tr>\n",
       "    <tr>\n",
       "      <th>num_tl_30dpd</th>\n",
       "      <td>0.0</td>\n",
       "      <td>0.0</td>\n",
       "      <td>0.0</td>\n",
       "    </tr>\n",
       "    <tr>\n",
       "      <th>num_tl_90g_dpd_24m</th>\n",
       "      <td>0.0</td>\n",
       "      <td>0.0</td>\n",
       "      <td>0.0</td>\n",
       "    </tr>\n",
       "    <tr>\n",
       "      <th>num_tl_op_past_12m</th>\n",
       "      <td>3.0</td>\n",
       "      <td>0.0</td>\n",
       "      <td>0.0</td>\n",
       "    </tr>\n",
       "    <tr>\n",
       "      <th>open_acc</th>\n",
       "      <td>14.0</td>\n",
       "      <td>5.0</td>\n",
       "      <td>7.0</td>\n",
       "    </tr>\n",
       "    <tr>\n",
       "      <th>open_il_24m</th>\n",
       "      <td>2.0</td>\n",
       "      <td>0.0</td>\n",
       "      <td>0.0</td>\n",
       "    </tr>\n",
       "    <tr>\n",
       "      <th>open_rv_24m</th>\n",
       "      <td>3.0</td>\n",
       "      <td>1.0</td>\n",
       "      <td>3.0</td>\n",
       "    </tr>\n",
       "    <tr>\n",
       "      <th>percent_bc_gt_75</th>\n",
       "      <td>100.0</td>\n",
       "      <td>100.0</td>\n",
       "      <td>0.0</td>\n",
       "    </tr>\n",
       "    <tr>\n",
       "      <th>pub_rec</th>\n",
       "      <td>1.0</td>\n",
       "      <td>1.0</td>\n",
       "      <td>0.0</td>\n",
       "    </tr>\n",
       "    <tr>\n",
       "      <th>pub_rec_bankruptcies</th>\n",
       "      <td>1.0</td>\n",
       "      <td>1.0</td>\n",
       "      <td>0.0</td>\n",
       "    </tr>\n",
       "    <tr>\n",
       "      <th>purpose</th>\n",
       "      <td>credit_card</td>\n",
       "      <td>credit_card</td>\n",
       "      <td>credit_card</td>\n",
       "    </tr>\n",
       "    <tr>\n",
       "      <th>revol_util</th>\n",
       "      <td>56.1%</td>\n",
       "      <td>88.3%</td>\n",
       "      <td>18.1%</td>\n",
       "    </tr>\n",
       "    <tr>\n",
       "      <th>tax_liens</th>\n",
       "      <td>0.0</td>\n",
       "      <td>0.0</td>\n",
       "      <td>0.0</td>\n",
       "    </tr>\n",
       "    <tr>\n",
       "      <th>term</th>\n",
       "      <td>36 months</td>\n",
       "      <td>36 months</td>\n",
       "      <td>36 months</td>\n",
       "    </tr>\n",
       "    <tr>\n",
       "      <th>title</th>\n",
       "      <td>Credit card refinancing</td>\n",
       "      <td>Credit card refinancing</td>\n",
       "      <td>Credit card refinancing</td>\n",
       "    </tr>\n",
       "    <tr>\n",
       "      <th>total_acc</th>\n",
       "      <td>26.0</td>\n",
       "      <td>11.0</td>\n",
       "      <td>31.0</td>\n",
       "    </tr>\n",
       "    <tr>\n",
       "      <th>verification_status</th>\n",
       "      <td>Source Verified</td>\n",
       "      <td>Not Verified</td>\n",
       "      <td>Source Verified</td>\n",
       "    </tr>\n",
       "    <tr>\n",
       "      <th>zip_code;</th>\n",
       "      <td>847xx;</td>\n",
       "      <td>900xx;</td>\n",
       "      <td>895xx;</td>\n",
       "    </tr>\n",
       "  </tbody>\n",
       "</table>\n",
       "</div>"
      ],
      "text/plain": [
       "                                                  0                        1  \\\n",
       "index                                             0                        1   \n",
       "acc_now_delinq                                  0.0                      0.0   \n",
       "addr_state                                       UT                       CA   \n",
       "annual_inc                                  80000.0                  82000.0   \n",
       "chargeoff_within_12_mths                        0.0                      0.0   \n",
       "collections_12_mths_ex_med                      0.0                      0.0   \n",
       "delinq_2yrs                                     0.0                      0.0   \n",
       "dti                                           30.49                      7.0   \n",
       "earliest_cr_line                           Oct-1996                 Mar-1993   \n",
       "emp_length                                  4 years                10+ years   \n",
       "fico_range_high                               689.0                    689.0   \n",
       "fico_range_low                                685.0                    685.0   \n",
       "funded_amnt                                 16000.0                   6600.0   \n",
       "home_ownership                                 RENT                 MORTGAGE   \n",
       "inq_last_12m                                    1.0                      0.0   \n",
       "installment                                  539.03                   214.27   \n",
       "int_rate                                     12.99%                   10.42%   \n",
       "issue_d                                    Apr-2016                 Sep-2017   \n",
       "loan_amnt                                   16000.0                   6600.0   \n",
       "mort_acc                                        5.0                      2.0   \n",
       "mths_since_last_delinq                         50.0                      NaN   \n",
       "mths_since_recent_bc_dlq                       65.0                      NaN   \n",
       "mths_since_recent_inq                           6.0                      NaN   \n",
       "num_accts_ever_120_pd                           3.0                      0.0   \n",
       "num_actv_bc_tl                                  4.0                      3.0   \n",
       "num_rev_accts                                  17.0                      8.0   \n",
       "num_sats                                       14.0                      5.0   \n",
       "num_tl_120dpd_2m                                0.0                      0.0   \n",
       "num_tl_30dpd                                    0.0                      0.0   \n",
       "num_tl_90g_dpd_24m                              0.0                      0.0   \n",
       "num_tl_op_past_12m                              3.0                      0.0   \n",
       "open_acc                                       14.0                      5.0   \n",
       "open_il_24m                                     2.0                      0.0   \n",
       "open_rv_24m                                     3.0                      1.0   \n",
       "percent_bc_gt_75                              100.0                    100.0   \n",
       "pub_rec                                         1.0                      1.0   \n",
       "pub_rec_bankruptcies                            1.0                      1.0   \n",
       "purpose                                 credit_card              credit_card   \n",
       "revol_util                                    56.1%                    88.3%   \n",
       "tax_liens                                       0.0                      0.0   \n",
       "term                                      36 months                36 months   \n",
       "title                       Credit card refinancing  Credit card refinancing   \n",
       "total_acc                                      26.0                     11.0   \n",
       "verification_status                 Source Verified             Not Verified   \n",
       "zip_code;                                    847xx;                   900xx;   \n",
       "\n",
       "                                                  2  \n",
       "index                                             2  \n",
       "acc_now_delinq                                  0.0  \n",
       "addr_state                                       NV  \n",
       "annual_inc                                  46080.0  \n",
       "chargeoff_within_12_mths                        0.0  \n",
       "collections_12_mths_ex_med                      0.0  \n",
       "delinq_2yrs                                     1.0  \n",
       "dti                                           17.32  \n",
       "earliest_cr_line                           Nov-2000  \n",
       "emp_length                                  3 years  \n",
       "fico_range_high                               674.0  \n",
       "fico_range_low                                670.0  \n",
       "funded_amnt                                 10000.0  \n",
       "home_ownership                             MORTGAGE  \n",
       "inq_last_12m                                    0.0  \n",
       "installment                                  317.96  \n",
       "int_rate                                      8.99%  \n",
       "issue_d                                    Aug-2016  \n",
       "loan_amnt                                   10000.0  \n",
       "mort_acc                                        3.0  \n",
       "mths_since_last_delinq                         10.0  \n",
       "mths_since_recent_bc_dlq                        NaN  \n",
       "mths_since_recent_inq                          13.0  \n",
       "num_accts_ever_120_pd                           0.0  \n",
       "num_actv_bc_tl                                  1.0  \n",
       "num_rev_accts                                  23.0  \n",
       "num_sats                                        7.0  \n",
       "num_tl_120dpd_2m                                0.0  \n",
       "num_tl_30dpd                                    0.0  \n",
       "num_tl_90g_dpd_24m                              0.0  \n",
       "num_tl_op_past_12m                              0.0  \n",
       "open_acc                                        7.0  \n",
       "open_il_24m                                     0.0  \n",
       "open_rv_24m                                     3.0  \n",
       "percent_bc_gt_75                                0.0  \n",
       "pub_rec                                         0.0  \n",
       "pub_rec_bankruptcies                            0.0  \n",
       "purpose                                 credit_card  \n",
       "revol_util                                    18.1%  \n",
       "tax_liens                                       0.0  \n",
       "term                                      36 months  \n",
       "title                       Credit card refinancing  \n",
       "total_acc                                      31.0  \n",
       "verification_status                 Source Verified  \n",
       "zip_code;                                    895xx;  "
      ]
     },
     "execution_count": 2,
     "metadata": {},
     "output_type": "execute_result"
    }
   ],
   "source": [
    "# загружаем файл с данными\n",
    "X_train = pd.read_csv('./X_train.csv', encoding = 'utf8', sep = ',')\n",
    "X_train.head(3).T "
   ]
  },
  {
   "cell_type": "code",
   "execution_count": 3,
   "id": "160d7e7d",
   "metadata": {},
   "outputs": [
    {
     "data": {
      "text/plain": [
       "(199999, 45)"
      ]
     },
     "execution_count": 3,
     "metadata": {},
     "output_type": "execute_result"
    }
   ],
   "source": [
    "X_train.shape"
   ]
  },
  {
   "cell_type": "code",
   "execution_count": 4,
   "id": "886d7cf5",
   "metadata": {},
   "outputs": [
    {
     "data": {
      "text/html": [
       "<div>\n",
       "<style scoped>\n",
       "    .dataframe tbody tr th:only-of-type {\n",
       "        vertical-align: middle;\n",
       "    }\n",
       "\n",
       "    .dataframe tbody tr th {\n",
       "        vertical-align: top;\n",
       "    }\n",
       "\n",
       "    .dataframe thead th {\n",
       "        text-align: right;\n",
       "    }\n",
       "</style>\n",
       "<table border=\"1\" class=\"dataframe\">\n",
       "  <thead>\n",
       "    <tr style=\"text-align: right;\">\n",
       "      <th></th>\n",
       "      <th>index</th>\n",
       "      <th>loan_status</th>\n",
       "    </tr>\n",
       "  </thead>\n",
       "  <tbody>\n",
       "    <tr>\n",
       "      <th>0</th>\n",
       "      <td>0</td>\n",
       "      <td>1.0</td>\n",
       "    </tr>\n",
       "    <tr>\n",
       "      <th>1</th>\n",
       "      <td>1</td>\n",
       "      <td>NaN</td>\n",
       "    </tr>\n",
       "    <tr>\n",
       "      <th>2</th>\n",
       "      <td>2</td>\n",
       "      <td>1.0</td>\n",
       "    </tr>\n",
       "  </tbody>\n",
       "</table>\n",
       "</div>"
      ],
      "text/plain": [
       "   index  loan_status\n",
       "0      0          1.0\n",
       "1      1          NaN\n",
       "2      2          1.0"
      ]
     },
     "execution_count": 4,
     "metadata": {},
     "output_type": "execute_result"
    }
   ],
   "source": [
    "# загружаем файл с данными\n",
    "y_train = pd.read_csv('./y_train.csv', encoding = 'utf8', sep = ',')\n",
    "y_train.head(3)"
   ]
  },
  {
   "cell_type": "code",
   "execution_count": 5,
   "id": "a8d545ce",
   "metadata": {},
   "outputs": [
    {
     "data": {
      "text/plain": [
       "(199999, 2)"
      ]
     },
     "execution_count": 5,
     "metadata": {},
     "output_type": "execute_result"
    }
   ],
   "source": [
    "y_train.shape"
   ]
  },
  {
   "cell_type": "markdown",
   "id": "7792a99e",
   "metadata": {},
   "source": [
    "## __ПЛАН ПРЕДВАРИТЕЛЬНОЙ ПОДГОТОВКИ ДАННЫХ__"
   ]
  },
  {
   "cell_type": "markdown",
   "id": "1cd0d55a",
   "metadata": {},
   "source": [
    "__До разбиения набора данных на обучающую и контрольную выборки__\n",
    "- Удаление очевидных бесполезных переменных (переменных у которых количество категорий совпадает с количеством наблюдений, или переменных с одним уникальным значением;\n",
    "- Преобразование типов данных;\n",
    "- Нормализация строковых значений (удаление лишних символов, приведение к одному и тому же регистру);\n",
    "- Обработка дублирующих наблюдений;\n",
    "- Обработка редких категорий, которую можно выполнить до разбиения на обучающую и контрольную выборки;\n",
    "- Импутация пропусков, которую можно выполнить до разбиения на обучающую и контрольную выборки;\n",
    "- Конструирование признаков, которое можно выполнить до разбиения на обучающую и контрольную выборки;\n",
    "\n",
    "__После разбиения набора данных на обучающую и контрольную выборки__\n",
    "- Выполнение преобразований, максимизирующих нормальность;\n",
    "- Обработка редких категорий, которую можно выполнить только после разбиения на обучающую и контрольную выборки;\n",
    "- Импутация пропусков, которую можно выполнить только после разбиения на обучающую и контрольную выборки;\n",
    "- Конструирование признаков, которое можно выполнить только после разбиения на обучающую и контрольную выборки;\n",
    "- Стандартизация, дамми-кодирование"
   ]
  },
  {
   "cell_type": "code",
   "execution_count": 6,
   "id": "4f70cf61",
   "metadata": {
    "scrolled": true
   },
   "outputs": [
    {
     "name": "stdout",
     "output_type": "stream",
     "text": [
      "<class 'pandas.core.frame.DataFrame'>\n",
      "RangeIndex: 199999 entries, 0 to 199998\n",
      "Data columns (total 45 columns):\n",
      " #   Column                      Non-Null Count   Dtype  \n",
      "---  ------                      --------------   -----  \n",
      " 0   index                       199999 non-null  object \n",
      " 1   acc_now_delinq              199873 non-null  float64\n",
      " 2   addr_state                  199873 non-null  object \n",
      " 3   annual_inc                  199873 non-null  float64\n",
      " 4   chargeoff_within_12_mths    199869 non-null  float64\n",
      " 5   collections_12_mths_ex_med  199869 non-null  float64\n",
      " 6   delinq_2yrs                 199873 non-null  float64\n",
      " 7   dti                         199873 non-null  float64\n",
      " 8   earliest_cr_line            199873 non-null  object \n",
      " 9   emp_length                  187808 non-null  object \n",
      " 10  fico_range_high             199873 non-null  float64\n",
      " 11  fico_range_low              199873 non-null  float64\n",
      " 12  funded_amnt                 199873 non-null  float64\n",
      " 13  home_ownership              199873 non-null  object \n",
      " 14  inq_last_12m                105394 non-null  float64\n",
      " 15  installment                 199873 non-null  float64\n",
      " 16  int_rate                    199873 non-null  object \n",
      " 17  issue_d                     199873 non-null  object \n",
      " 18  loan_amnt                   199873 non-null  float64\n",
      " 19  mort_acc                    194708 non-null  float64\n",
      " 20  mths_since_last_delinq      98699 non-null   float64\n",
      " 21  mths_since_recent_bc_dlq    46920 non-null   float64\n",
      " 22  mths_since_recent_inq       174981 non-null  float64\n",
      " 23  num_accts_ever_120_pd       192435 non-null  float64\n",
      " 24  num_actv_bc_tl              192435 non-null  float64\n",
      " 25  num_rev_accts               192435 non-null  float64\n",
      " 26  num_sats                    193761 non-null  float64\n",
      " 27  num_tl_120dpd_2m            184803 non-null  float64\n",
      " 28  num_tl_30dpd                192435 non-null  float64\n",
      " 29  num_tl_90g_dpd_24m          192435 non-null  float64\n",
      " 30  num_tl_op_past_12m          192435 non-null  float64\n",
      " 31  open_acc                    199873 non-null  float64\n",
      " 32  open_il_24m                 105394 non-null  float64\n",
      " 33  open_rv_24m                 105394 non-null  float64\n",
      " 34  percent_bc_gt_75            192551 non-null  float64\n",
      " 35  pub_rec                     199873 non-null  float64\n",
      " 36  pub_rec_bankruptcies        199790 non-null  float64\n",
      " 37  purpose                     199873 non-null  object \n",
      " 38  revol_util                  199727 non-null  object \n",
      " 39  tax_liens                   199871 non-null  float64\n",
      " 40  term                        199873 non-null  object \n",
      " 41  title                       197618 non-null  object \n",
      " 42  total_acc                   199873 non-null  float64\n",
      " 43  verification_status         199873 non-null  object \n",
      " 44  zip_code;                   199873 non-null  object \n",
      "dtypes: float64(32), object(13)\n",
      "memory usage: 68.7+ MB\n"
     ]
    }
   ],
   "source": [
    "# выводим информацию о количестве непропущенных наблюдений в переменных и типах переменных\n",
    "X_train.info()"
   ]
  },
  {
   "cell_type": "markdown",
   "id": "79c160d3",
   "metadata": {},
   "source": [
    "### __Удаление очевидных бесполезных переменных (переменных у которых количество категорий совпадает с количеством наблюдений, или переменных с одним уникальным значением)__"
   ]
  },
  {
   "cell_type": "code",
   "execution_count": 7,
   "id": "e72ff1c6",
   "metadata": {},
   "outputs": [],
   "source": [
    "# Удаляем очевидную бесполезную переменную index (количество категорий совпадает с количеством наблюдений)\n",
    "X_train.drop('index', axis = 1, inplace = True)"
   ]
  },
  {
   "cell_type": "markdown",
   "id": "0b7335e9",
   "metadata": {},
   "source": [
    "### __Изучение данных по каждой категории на наличие переменных с одним уникальным значением и правильности выбранного типа данных__"
   ]
  },
  {
   "cell_type": "code",
   "execution_count": 8,
   "id": "e49d7651",
   "metadata": {},
   "outputs": [
    {
     "data": {
      "text/plain": [
       "array([ 0.,  1., nan,  2.,  3.,  5.])"
      ]
     },
     "execution_count": 8,
     "metadata": {},
     "output_type": "execute_result"
    }
   ],
   "source": [
    "# выведем уникальные значения по переменной acc_now_delinq с помощью метода .unique()\n",
    "X_train['acc_now_delinq'].unique()"
   ]
  },
  {
   "cell_type": "code",
   "execution_count": 9,
   "id": "48e5f25b",
   "metadata": {},
   "outputs": [
    {
     "data": {
      "text/plain": [
       "50"
      ]
     },
     "execution_count": 9,
     "metadata": {},
     "output_type": "execute_result"
    }
   ],
   "source": [
    "# выведем уникальные значения по переменной addr_state \n",
    "X_train['addr_state'].unique()\n",
    "\n",
    "# теперь с помощью метода .nunique() выведем количество уникальных значений переменной чтобы убедиться в отсутствии \n",
    "# неверных записей\n",
    "X_train['addr_state'].nunique()"
   ]
  },
  {
   "cell_type": "code",
   "execution_count": 10,
   "id": "d838b757",
   "metadata": {},
   "outputs": [
    {
     "data": {
      "text/plain": [
       "array([  80000. ,   82000. ,   46080. , ..., 1121869. ,   75643.2,\n",
       "         65245. ])"
      ]
     },
     "execution_count": 10,
     "metadata": {},
     "output_type": "execute_result"
    }
   ],
   "source": [
    "X_train['annual_inc'].unique()"
   ]
  },
  {
   "cell_type": "code",
   "execution_count": 11,
   "id": "a8ad63f7",
   "metadata": {},
   "outputs": [
    {
     "data": {
      "text/plain": [
       "array([ 0.,  1., nan,  2.,  4.,  3.,  5.,  6., 10.,  7.])"
      ]
     },
     "execution_count": 11,
     "metadata": {},
     "output_type": "execute_result"
    }
   ],
   "source": [
    "X_train['chargeoff_within_12_mths'].unique()"
   ]
  },
  {
   "cell_type": "code",
   "execution_count": 12,
   "id": "9a5d28c2",
   "metadata": {},
   "outputs": [
    {
     "data": {
      "text/plain": [
       "array([ 0.,  1., nan,  2.,  3.,  4., 10.,  7.,  6.,  5., 20.])"
      ]
     },
     "execution_count": 12,
     "metadata": {},
     "output_type": "execute_result"
    }
   ],
   "source": [
    "X_train['collections_12_mths_ex_med'].unique()"
   ]
  },
  {
   "cell_type": "code",
   "execution_count": 13,
   "id": "82bd1c49",
   "metadata": {},
   "outputs": [
    {
     "data": {
      "text/plain": [
       "array([ 0.,  1., nan,  2.,  3.,  4., 10.,  7.,  6.,  5., 20.])"
      ]
     },
     "execution_count": 13,
     "metadata": {},
     "output_type": "execute_result"
    }
   ],
   "source": [
    "X_train['collections_12_mths_ex_med'].unique()"
   ]
  },
  {
   "cell_type": "code",
   "execution_count": 14,
   "id": "db2b51ad",
   "metadata": {},
   "outputs": [
    {
     "data": {
      "text/plain": [
       "array([ 0.,  1.,  2.,  4.,  3.,  5., nan,  6.,  8., 10.,  7.,  9., 11.,\n",
       "       12., 13., 16., 14., 15., 21., 30., 18., 19., 17., 27.])"
      ]
     },
     "execution_count": 14,
     "metadata": {},
     "output_type": "execute_result"
    }
   ],
   "source": [
    "X_train['delinq_2yrs'].unique()"
   ]
  },
  {
   "cell_type": "code",
   "execution_count": 15,
   "id": "a68983cd",
   "metadata": {},
   "outputs": [
    {
     "data": {
      "text/plain": [
       "array([30.49,  7.  , 17.32, ..., 42.46, 40.73, 43.25])"
      ]
     },
     "execution_count": 15,
     "metadata": {},
     "output_type": "execute_result"
    }
   ],
   "source": [
    "X_train['dti'].unique()"
   ]
  },
  {
   "cell_type": "code",
   "execution_count": 19,
   "id": "1f19d1ec",
   "metadata": {
    "scrolled": true
   },
   "outputs": [
    {
     "data": {
      "text/plain": [
       "array(['Oct-1996', 'Mar-1993', 'Nov-2000', 'Jan-2010', 'Jan-2002',\n",
       "       'Apr-1993', 'Apr-2001', 'Sep-1995', 'Nov-1991', 'Sep-1996',\n",
       "       'Aug-1998', 'May-1992', 'Apr-1989', 'Feb-2008', 'May-1999',\n",
       "       'May-1995', 'Feb-2004', 'Sep-2010', 'Jun-2004', 'Mar-2001',\n",
       "       'Mar-1997', 'Jan-2007', 'Jul-2012', 'Sep-2001', 'Dec-1997',\n",
       "       'Mar-2000', 'May-1988', 'Apr-1986', 'Aug-2002', 'Dec-1996',\n",
       "       'Nov-1994', 'Jul-1998', 'May-2002', 'Oct-2002', 'Sep-2003',\n",
       "       'Dec-2004', 'Apr-1988', 'Sep-1999', 'Feb-2001', 'Sep-1993',\n",
       "       'Apr-2005', 'May-2001', 'Aug-2000', 'Jan-2004', 'Mar-2005',\n",
       "       'Oct-2004', 'Apr-1994', 'Oct-2001', 'Jan-2001', 'Feb-2005',\n",
       "       'Sep-2009', 'Jan-2005', 'Jan-1986', 'Apr-2006', 'Jul-1993',\n",
       "       'Jul-2000', 'Mar-1994', 'Nov-1985', 'Feb-2006', 'Nov-1997',\n",
       "       'Aug-2012', 'Dec-1992', 'Mar-1998', 'Feb-1993', 'Oct-1983',\n",
       "       'Dec-2001', 'Nov-1998', 'Jul-1984', 'Sep-2007', 'Nov-2002',\n",
       "       'Nov-1995', 'Oct-2005', 'May-1986', 'Nov-1999', 'Oct-2006',\n",
       "       'Jul-1997', 'Dec-2002', 'Feb-2007', 'Aug-1997', 'Oct-1997',\n",
       "       'Jun-2003', 'May-2008', 'Jul-2008', 'Aug-2003', 'Dec-2014',\n",
       "       'Jan-1995', 'Feb-2000', 'Jul-1995', 'May-2003', 'Sep-1988',\n",
       "       'Aug-1995', 'Nov-1989', 'Jul-2014', 'Aug-2011', 'Dec-2000',\n",
       "       'Nov-2005', 'Jan-2000', 'Dec-1999', 'Feb-1989', 'Sep-1981',\n",
       "       'Jun-2007', 'Apr-2013', 'Oct-1991', 'Mar-1992', 'Jun-2006',\n",
       "       'Oct-1999', 'Dec-1995', 'Jan-2008', 'Oct-2009', 'Jul-1996',\n",
       "       'May-1987', 'Jun-1995', 'Apr-2008', 'Jun-2000', 'Dec-2007',\n",
       "       'Jul-2005', 'Aug-2006', 'Sep-2002', 'Jun-1986', 'Feb-2012',\n",
       "       'Mar-1978', 'Feb-2009', 'Dec-2006', 'Mar-2003', 'Apr-2004',\n",
       "       'May-1998', 'Jul-2004', 'Dec-2005', 'Oct-2000', 'Sep-2006',\n",
       "       'Aug-2005', 'Mar-1999', 'Oct-1990', 'Jan-1979', 'Feb-1991',\n",
       "       'Jul-2002', 'Apr-2000', 'Aug-1990', 'Jan-2006', 'Aug-1996',\n",
       "       'Nov-2003', 'Jul-2009', 'May-2004', 'Mar-1995', 'Nov-2006',\n",
       "       'Feb-1996', 'Jan-1998', 'Feb-1995', 'Jul-2006', 'Mar-2007',\n",
       "       'Oct-1979', 'Jun-1984', 'Jun-1994', 'Aug-1993', 'Jan-1999',\n",
       "       'Oct-1992', 'Sep-2012', 'Apr-1997', 'Aug-2001', 'May-2007',\n",
       "       'Sep-1997', 'May-1989', 'Sep-1987', 'Aug-1992', 'Feb-1997',\n",
       "       'Mar-1985', 'Jan-2011', 'Dec-1998', 'Mar-2013', 'Aug-2007',\n",
       "       'Feb-1994', 'Jun-2005', 'Oct-1984', 'Dec-1994', 'May-1994',\n",
       "       'May-1997', 'Jul-1994', 'May-1996', 'Jul-2001', 'Apr-2011',\n",
       "       'Oct-2007', 'Nov-1996', 'Dec-1993', 'Mar-2004', 'Sep-2004',\n",
       "       'Jul-1992', 'Jun-1991', 'May-1985', 'Jun-1990', 'Jun-2011',\n",
       "       'Apr-1987', 'Jul-1999', 'Jun-2001', 'May-2005', 'Apr-1995',\n",
       "       'Dec-1981', 'Mar-2002', 'Nov-2004', 'Aug-1999', 'Oct-1993',\n",
       "       'Aug-1981', 'Jun-1999', 'Dec-2003', 'Jun-1996', 'Mar-1981',\n",
       "       'Sep-2000', 'Mar-1991', 'Feb-2002', 'Sep-2005', 'Sep-1990',\n",
       "       'Jun-1985', 'Aug-1987', 'May-1991', 'Jan-1992', 'Mar-2006',\n",
       "       'Mar-1996', 'Jan-1989', 'Mar-2014', 'Jun-1983', 'Jan-1994',\n",
       "       'Feb-2003', 'Oct-1994', 'Nov-2008', 'Apr-1999', 'Jul-2003',\n",
       "       'May-2009', 'Apr-2002', 'Jun-1997', 'Mar-2011', 'Sep-1998',\n",
       "       'Mar-2012', 'Jul-2010', nan, 'Oct-1998', 'Apr-1998', 'Nov-2009',\n",
       "       'Jan-2013', 'Nov-2001', 'Nov-1983', 'Feb-2010', 'Oct-1981',\n",
       "       'Aug-1984', 'Oct-1989', 'Jun-2013', 'Apr-2003', 'Mar-2008',\n",
       "       'Jun-2009', 'May-2006', 'Feb-1999', 'Jul-1988', 'Jul-1980',\n",
       "       'Nov-1993', 'Jan-1997', 'Aug-2008', 'Jun-2002', 'Dec-2013',\n",
       "       'Mar-1990', 'Dec-2009', 'Jun-2014', 'Jan-1996', 'Dec-1989',\n",
       "       'Nov-2007', 'Jul-2007', 'Mar-1988', 'Apr-1990', 'Jun-2008',\n",
       "       'Oct-1987', 'Apr-2007', 'Jul-2011', 'Feb-1986', 'Sep-1994',\n",
       "       'Feb-1980', 'Aug-2004', 'Aug-2013', 'Apr-2014', 'Dec-1984',\n",
       "       'Jul-1987', 'Sep-2011', 'Mar-2010', 'Jun-1992', 'Aug-1986',\n",
       "       'Apr-1992', 'Oct-1995', 'Apr-1991', 'Dec-1986', 'Dec-1976',\n",
       "       'Jun-1988', 'Feb-1967', 'Feb-1990', 'Aug-2009', 'Feb-1974',\n",
       "       'Jan-1988', 'Nov-1984', 'Jan-2003', 'Oct-2012', 'Sep-1986',\n",
       "       'Jun-1989', 'Aug-1989', 'Jul-1989', 'Sep-1985', 'Mar-1972',\n",
       "       'Dec-1971', 'May-1990', 'May-2014', 'Mar-2015', 'Aug-1994',\n",
       "       'Feb-1992', 'Mar-1983', 'Sep-1989', 'May-2000', 'Aug-1991',\n",
       "       'Feb-1978', 'Jun-1998', 'Jun-1993', 'Nov-1979', 'Sep-1992',\n",
       "       'May-1977', 'Nov-2010', 'Jun-2012', 'Nov-1992', 'Jan-1987',\n",
       "       'Oct-1986', 'Aug-1983', 'Jul-1986', 'Jan-1967', 'Dec-1982',\n",
       "       'Dec-1983', 'Oct-2010', 'Mar-1971', 'Jul-1991', 'Jul-1990',\n",
       "       'Sep-2008', 'Aug-2010', 'Aug-1977', 'Jan-1991', 'Mar-1984',\n",
       "       'Aug-1982', 'Apr-2010', 'Jun-2010', 'Dec-2015', 'Oct-2013',\n",
       "       'Feb-1984', 'Nov-2012', 'Oct-2008', 'Dec-1990', 'Apr-1996',\n",
       "       'Oct-2003', 'May-2011', 'May-1981', 'Apr-1984', 'Oct-2014',\n",
       "       'Jan-1973', 'Jan-1981', 'Oct-1985', 'Jul-1973', 'Nov-1988',\n",
       "       'Oct-1972', 'Oct-1988', 'Jul-1971', 'Feb-2015', 'Jan-1975',\n",
       "       'Feb-1985', 'Jan-1993', 'Apr-2012', 'May-1979', 'Nov-1970',\n",
       "       'Dec-1973', 'Apr-1975', 'Apr-1985', 'Aug-1988', 'Mar-1976',\n",
       "       'Nov-1987', 'Dec-2011', 'Sep-1980', 'Nov-1986', 'May-1993',\n",
       "       'Aug-2014', 'Mar-1986', 'Feb-1988', 'Sep-1979', 'Aug-1976',\n",
       "       'Jul-1978', 'Dec-1985', 'Feb-1983', 'Sep-2015', 'Feb-1998',\n",
       "       'Jan-1976', 'Jan-2012', 'Nov-1990', 'Feb-1979', 'Feb-2011',\n",
       "       'Nov-1973', 'Aug-1980', 'Jan-1960', 'Mar-1982', 'Aug-1978',\n",
       "       'Nov-2011', 'May-2010', 'Sep-2014', 'Dec-2012', 'Mar-2009',\n",
       "       'Jun-1971', 'Jul-1985', 'Nov-1978', 'Dec-2008', 'Jan-1985',\n",
       "       'May-1984', 'Sep-1991', 'Dec-1975', 'Oct-1977', 'Apr-1977',\n",
       "       'Apr-2009', 'Jul-1977', 'Dec-1979', 'May-2012', 'Dec-2010',\n",
       "       'May-1978', 'Jun-1987', 'Jan-2014', 'Apr-1983', 'Feb-1987',\n",
       "       'Dec-1972', 'Jul-1972', 'Jan-1984', 'Dec-1991', 'Dec-1988',\n",
       "       'Sep-2013', 'Sep-1983', 'Mar-1989', 'Feb-1976', 'Mar-1974',\n",
       "       'May-2013', 'Apr-1982', 'Dec-1987', 'Jan-1990', 'Dec-1970',\n",
       "       'Oct-2011', 'Jul-1983', 'Feb-1975', 'May-2015', 'Aug-1975',\n",
       "       'Jul-1981', 'Jun-1978', 'Feb-2014', 'Jul-2013', 'Aug-1985',\n",
       "       'Sep-1984', 'Feb-2013', 'Nov-2014', 'Jan-1983', 'Jun-1979',\n",
       "       'Dec-1980', 'Mar-1987', 'Oct-1982', 'Mar-1969', 'Apr-1981',\n",
       "       'Aug-1970', 'Aug-1971', 'Feb-1982', 'Nov-1982', 'Apr-1978',\n",
       "       'Jul-1975', 'Jan-1974', 'Sep-1978', 'Mar-1980', 'Mar-1975',\n",
       "       'Jul-1959', 'Jun-1976', 'Oct-1980', 'Jul-1976', 'Aug-1972',\n",
       "       'Sep-1970', 'Jan-1977', 'Jan-1970', 'Jan-1972', 'Jan-2015',\n",
       "       'Jan-2009', 'May-1975', 'Nov-1980', 'May-1980', 'Jan-1982',\n",
       "       'Jun-1974', 'Sep-1982', 'Jun-1977', 'Aug-1974', 'Jun-1982',\n",
       "       'Oct-1978', 'Feb-1972', 'May-1983', 'Jun-1969', 'Aug-1973',\n",
       "       'Apr-1971', 'Apr-1976', 'Jul-1982', 'Dec-1978', 'Apr-1979',\n",
       "       'Sep-1972', 'Apr-1973', 'Apr-1969', 'Mar-1966', 'Jul-1970',\n",
       "       'Oct-1974', 'Nov-1971', 'Jul-1960', 'May-1966', 'Apr-1974',\n",
       "       'Nov-2013', 'Aug-1963', 'Sep-1973', 'Oct-2015', 'Oct-1973',\n",
       "       'Apr-1980', 'Dec-1968', 'Feb-1970', 'Oct-1961', 'Mar-1977',\n",
       "       'Mar-1979', 'Dec-1966', 'Jan-1980', 'Feb-1973', 'Mar-1973',\n",
       "       'Jun-1973', 'Feb-1971', 'Sep-1971', 'Mar-1970', 'Mar-1965',\n",
       "       'Jun-1981', 'Jul-1979', 'Sep-1974', 'Feb-1981', 'Nov-1964',\n",
       "       'Sep-1977', 'Aug-1979', 'May-1969', 'Jun-2015', 'Nov-1976',\n",
       "       'May-1982', 'Jun-1980', 'Jan-1963', 'Oct-1976', 'Nov-1966',\n",
       "       'Aug-1959', 'Nov-1977', 'Nov-1981', 'Apr-2015', 'Nov-1972',\n",
       "       'Jun-1975', 'Jun-1972', 'Sep-1969', 'May-1972', 'Jun-1970',\n",
       "       'Jul-1969', 'Dec-1974', 'Nov-1969', 'Oct-1975', 'Jul-2015',\n",
       "       'May-1973', 'Jul-2016', 'Feb-1977', 'May-2016', 'Sep-1975',\n",
       "       'Nov-1967', 'May-1963', 'Jan-1978', 'May-1971', 'Aug-2015',\n",
       "       'Aug-1966', 'Nov-1975', 'Sep-1967', 'Jan-1965', 'Aug-1964',\n",
       "       'Oct-1958', 'Jun-1966', 'Aug-1965', 'Dec-1977', 'Oct-1970',\n",
       "       'Sep-1976', 'Jan-2016', 'May-1964', 'Sep-1965', 'Mar-2016',\n",
       "       'Mar-1967', 'May-1970', 'Nov-1968', 'Dec-1962', 'Jul-1964',\n",
       "       'Jul-1974', 'Nov-1974', 'Jul-1965', 'Nov-2015', 'Apr-1972',\n",
       "       'Oct-1969', 'Jan-1968', 'Apr-2016', 'Aug-1969', 'Jan-1971',\n",
       "       'Oct-1967', 'May-1967', 'May-1974', 'Nov-1963', 'Sep-1964',\n",
       "       'Oct-1962', 'Apr-1970', 'Mar-1968', 'Nov-1965', 'Jan-1969',\n",
       "       'Jul-1966', 'May-1976', 'Apr-1967', 'Aug-1967', 'Feb-2016',\n",
       "       'Apr-1968', 'Jun-1967', 'Oct-1964', 'Feb-1968', 'Dec-1967',\n",
       "       'Apr-1962', 'Oct-1971', 'Apr-1965', 'Apr-1966', 'Jan-1966',\n",
       "       'Dec-1969', 'Dec-1964', 'Jun-1965', 'Jan-1958', 'Jan-1956',\n",
       "       'Jan-1959', 'Oct-1965', 'Dec-1965', 'Nov-1959', 'Oct-1968',\n",
       "       'Jun-1964', 'Jan-1961', 'Sep-1963', 'Aug-1968', 'Feb-1965',\n",
       "       'Jul-1967', 'Jul-1968', 'May-1962', 'Feb-1969', 'Jan-1964',\n",
       "       'Sep-1968', 'Feb-1963', 'Jun-2016', 'Sep-1953', 'Jul-1958',\n",
       "       'Oct-1966', 'Oct-1959', 'May-1968', 'Jun-1963', 'Sep-1959',\n",
       "       'Jan-1950', 'May-1959', 'Oct-1963', 'May-1960', 'Jan-1952',\n",
       "       'Sep-1966', 'Dec-1963', 'Sep-1962', 'Dec-1959', 'Jun-1958',\n",
       "       'Jan-1962', 'Nov-1960', 'Mar-1959', 'Apr-1963', 'Dec-2016',\n",
       "       'Feb-1966', 'Feb-1964', 'Jun-1962', 'Aug-2016', 'Sep-2016',\n",
       "       'May-1965', 'Mar-1964', 'Nov-1956', 'Nov-1961', 'Dec-1956',\n",
       "       'Aug-1941', 'Jun-1968', 'Nov-1962', 'Jan-1953', 'Mar-1963',\n",
       "       'Oct-2016', 'Jun-1961', 'Jul-1962'], dtype=object)"
      ]
     },
     "execution_count": 19,
     "metadata": {},
     "output_type": "execute_result"
    }
   ],
   "source": [
    "X_train['earliest_cr_line'].unique()"
   ]
  },
  {
   "cell_type": "code",
   "execution_count": 20,
   "id": "8cc37ffb",
   "metadata": {
    "scrolled": true
   },
   "outputs": [
    {
     "data": {
      "text/plain": [
       "array(['4 years', '10+ years', '3 years', '< 1 year', '5 years', '1 year',\n",
       "       '7 years', '8 years', '2 years', '9 years', nan, '6 years'],\n",
       "      dtype=object)"
      ]
     },
     "execution_count": 20,
     "metadata": {},
     "output_type": "execute_result"
    }
   ],
   "source": [
    "X_train['emp_length'].unique()"
   ]
  },
  {
   "cell_type": "code",
   "execution_count": 21,
   "id": "7cc735bf",
   "metadata": {},
   "outputs": [
    {
     "data": {
      "text/plain": [
       "array([689., 674., 694., 704., 664., 699., 679., 714., 684., 759., 669.,\n",
       "       774., 754., 724., 729., 744., 749., 739., 709., 814., 764., 719.,\n",
       "       779., 784., 794., 734., 789., 769., 799.,  nan, 834., 809., 804.,\n",
       "       819., 824., 844., 829., 839., 850.])"
      ]
     },
     "execution_count": 21,
     "metadata": {},
     "output_type": "execute_result"
    }
   ],
   "source": [
    "X_train['fico_range_high'].unique()"
   ]
  },
  {
   "cell_type": "code",
   "execution_count": 22,
   "id": "d77f105b",
   "metadata": {},
   "outputs": [
    {
     "data": {
      "text/plain": [
       "array([685., 670., 690., 700., 660., 695., 675., 710., 680., 755., 665.,\n",
       "       770., 750., 720., 725., 740., 745., 735., 705., 810., 760., 715.,\n",
       "       775., 780., 790., 730., 785., 765., 795.,  nan, 830., 805., 800.,\n",
       "       815., 820., 840., 825., 835., 845.])"
      ]
     },
     "execution_count": 22,
     "metadata": {},
     "output_type": "execute_result"
    }
   ],
   "source": [
    "X_train['fico_range_low'].unique()"
   ]
  },
  {
   "cell_type": "code",
   "execution_count": 23,
   "id": "9ff1d0ad",
   "metadata": {},
   "outputs": [
    {
     "data": {
      "text/plain": [
       "array([16000.,  6600., 10000., ..., 35325., 39350., 37925.])"
      ]
     },
     "execution_count": 23,
     "metadata": {},
     "output_type": "execute_result"
    }
   ],
   "source": [
    "X_train['funded_amnt'].unique()"
   ]
  },
  {
   "cell_type": "code",
   "execution_count": 24,
   "id": "65b1d3de",
   "metadata": {},
   "outputs": [
    {
     "data": {
      "text/plain": [
       "array(['RENT', 'MORTGAGE', 'OWN', nan, 'OTHER', 'ANY', 'NONE'],\n",
       "      dtype=object)"
      ]
     },
     "execution_count": 24,
     "metadata": {},
     "output_type": "execute_result"
    }
   ],
   "source": [
    "X_train['home_ownership'].unique()"
   ]
  },
  {
   "cell_type": "code",
   "execution_count": 25,
   "id": "4df1762a",
   "metadata": {},
   "outputs": [
    {
     "data": {
      "text/plain": [
       "array([ 1.,  0., nan,  2.,  3.,  7.,  4.,  6.,  5.,  8., 12., 11., 13.,\n",
       "       10.,  9., 14., 18., 16., 31., 17., 27., 15., 21., 23., 20., 26.,\n",
       "       22., 19., 34., 39., 24., 30., 45., 25., 28., 41., 29.])"
      ]
     },
     "execution_count": 25,
     "metadata": {},
     "output_type": "execute_result"
    }
   ],
   "source": [
    "X_train['inq_last_12m'].unique()"
   ]
  },
  {
   "cell_type": "code",
   "execution_count": 26,
   "id": "3a5773fa",
   "metadata": {},
   "outputs": [
    {
     "data": {
      "text/plain": [
       "array([539.03, 214.27, 317.96, ..., 233.13, 725.29, 968.42])"
      ]
     },
     "execution_count": 26,
     "metadata": {},
     "output_type": "execute_result"
    }
   ],
   "source": [
    "X_train['installment'].unique()"
   ]
  },
  {
   "cell_type": "code",
   "execution_count": 27,
   "id": "4a5a7d89",
   "metadata": {
    "scrolled": true
   },
   "outputs": [
    {
     "data": {
      "text/plain": [
       "array([' 12.99%', ' 10.42%', '  8.99%', ' 11.53%', ' 26.30%', ' 12.12%',\n",
       "       ' 14.65%', ' 13.59%', '  8.18%', ' 13.49%', ' 24.50%', ' 15.31%',\n",
       "       ' 18.99%', ' 17.57%', ' 13.11%', '  6.24%', ' 13.33%', ' 11.99%',\n",
       "       ' 13.67%', '  5.32%', '  6.03%', ' 14.49%', ' 14.99%', ' 13.56%',\n",
       "       '  8.24%', ' 24.99%', '  9.49%', '  6.89%', ' 14.31%', ' 12.39%',\n",
       "       '  9.16%', '  7.89%', ' 13.68%', '  9.17%', ' 12.49%', ' 10.64%',\n",
       "       ' 11.49%', ' 14.09%', ' 12.85%', ' 13.98%', '  8.90%', ' 13.53%',\n",
       "       ' 14.47%', ' 16.99%', '  8.46%', '  6.46%', ' 12.69%', ' 11.39%',\n",
       "       ' 12.79%', ' 15.80%', ' 21.45%', ' 11.44%', ' 10.99%', ' 12.62%',\n",
       "       ' 20.99%', ' 18.25%', '  8.67%', ' 15.41%', ' 11.47%', '  7.99%',\n",
       "       ' 23.05%', ' 10.49%', '  8.59%', ' 14.08%', ' 15.05%', ' 10.16%',\n",
       "       ' 22.45%', '  9.99%', ' 10.41%', ' 10.47%', ' 12.73%', '  7.26%',\n",
       "       ' 16.02%', ' 15.59%', ' 11.71%', ' 12.35%', ' 13.99%', ' 22.99%',\n",
       "       ' 22.39%', '  9.43%', ' 15.61%', ' 12.98%', '  6.62%', '  7.59%',\n",
       "       ' 13.06%', ' 17.19%', '  8.39%', '  9.93%', ' 19.89%', '  6.67%',\n",
       "       ' 11.14%', ' 23.63%', '  7.49%', '  8.19%', '  7.97%', ' 14.33%',\n",
       "       '  7.90%', ' 16.55%', ' 20.00%', ' 19.52%', ' 21.00%', ' 11.67%',\n",
       "       ' 10.78%', ' 16.49%', ' 19.92%', '  6.68%', ' 15.02%', ' 14.16%',\n",
       "       ' 12.29%', ' 10.15%', ' 17.74%', ' 23.28%', '  9.92%', '  7.35%',\n",
       "       '  6.92%', ' 26.24%', ' 20.20%', '  6.19%', ' 13.23%', '  9.75%',\n",
       "       ' 16.14%', ' 11.80%', ' 18.49%', ' 18.45%', ' 23.43%', ' 12.40%',\n",
       "       ' 16.46%', ' 13.18%', ' 17.99%', ' 15.99%', ' 13.65%', ' 11.02%',\n",
       "       ' 12.59%', '  7.69%', '  6.11%', ' 19.99%', ' 11.55%', ' 27.27%',\n",
       "       ' 19.03%', ' 28.18%', '  7.46%', ' 19.19%', ' 25.99%', ' 19.47%',\n",
       "       ' 15.49%', ' 15.22%', ' 19.05%', '  9.44%', ' 18.06%', ' 13.61%',\n",
       "       ' 19.22%', ' 10.75%', '  7.91%', '  9.67%', ' 15.24%', '  7.07%',\n",
       "       ' 11.48%', ' 14.30%', '  7.39%', '  6.97%', ' 30.79%', '  9.80%',\n",
       "       ' 27.79%', ' 16.32%', ' 10.33%', '  9.76%', ' 17.86%', ' 24.08%',\n",
       "       '  7.12%', '  7.24%', ' 19.72%', ' 16.20%', ' 18.54%', ' 22.15%',\n",
       "       ' 17.47%', ' 15.77%', '  8.81%', ' 16.78%', ' 11.06%', ' 16.29%',\n",
       "       ' 21.85%', ' 11.31%', '  7.51%', ' 12.13%', ' 13.35%', ' 19.24%',\n",
       "       '  7.21%', ' 21.48%', ' 18.75%', '  7.02%', ' 10.72%', ' 12.74%',\n",
       "       '  6.99%', ' 24.11%', ' 10.19%', ' 17.27%', nan, '  9.58%',\n",
       "       ' 14.46%', ' 30.99%', ' 17.77%', ' 27.88%', ' 12.05%', '  6.72%',\n",
       "       '  6.49%', ' 26.31%', ' 24.70%', ' 18.84%', ' 20.39%', ' 10.91%',\n",
       "       ' 15.04%', ' 25.83%', '  7.56%', ' 17.49%', ' 29.99%', ' 15.10%',\n",
       "       ' 13.44%', ' 28.14%', ' 18.24%', ' 29.69%', ' 17.97%', ' 14.85%',\n",
       "       ' 14.64%', ' 21.49%', ' 17.09%', ' 26.77%', '  8.38%', '  7.66%',\n",
       "       ' 23.99%', '  8.08%', ' 21.99%', ' 13.58%', ' 25.00%', '  5.31%',\n",
       "       ' 14.74%', ' 25.44%', ' 14.03%', ' 16.12%', ' 19.42%', ' 10.08%',\n",
       "       ' 20.50%', ' 11.12%', ' 21.18%', ' 25.82%', ' 12.42%', '  8.49%',\n",
       "       ' 19.20%', ' 14.52%', ' 18.85%', ' 20.75%', ' 18.55%', ' 11.22%',\n",
       "       ' 24.85%', ' 13.80%', ' 23.13%', ' 28.99%', ' 22.74%', ' 21.15%',\n",
       "       '  6.39%', ' 10.74%', ' 13.85%', '  6.07%', '  7.62%', ' 20.49%',\n",
       "       ' 13.05%', ' 13.08%', ' 19.48%', '  7.84%', '  5.79%', ' 17.56%',\n",
       "       ' 20.31%', ' 21.60%', ' 14.07%', ' 18.94%', ' 16.91%', ' 25.49%',\n",
       "       ' 22.20%', ' 16.40%', ' 18.92%', ' 21.28%', ' 17.14%', ' 17.76%',\n",
       "       ' 21.97%', ' 15.88%', ' 23.88%', ' 30.17%', '  6.08%', '  6.71%',\n",
       "       ' 25.57%', ' 11.05%', ' 14.98%', ' 25.80%', '  5.93%', ' 20.89%',\n",
       "       ' 10.90%', ' 21.36%', ' 12.88%', ' 13.87%', ' 12.61%', '  7.34%',\n",
       "       ' 21.98%', ' 17.10%', ' 10.59%', ' 21.70%', ' 10.65%', ' 24.49%',\n",
       "       ' 25.69%', '  9.32%', ' 16.24%', ' 25.81%', '  7.96%', '  9.71%',\n",
       "       ' 14.48%', ' 26.49%', ' 30.84%', ' 23.40%', ' 10.56%', ' 15.57%',\n",
       "       ' 16.59%', ' 20.55%', ' 25.88%', ' 13.66%', ' 26.06%', ' 20.80%',\n",
       "       ' 19.53%', '  8.94%', '  7.88%', ' 22.91%', ' 12.21%', ' 24.89%',\n",
       "       ' 22.47%', ' 12.68%', '  9.25%', ' 21.74%', '  9.62%', ' 28.72%',\n",
       "       ' 14.79%', ' 28.69%', ' 11.98%', ' 12.22%', ' 14.42%', ' 18.20%',\n",
       "       ' 13.57%', '  6.00%', ' 13.90%', ' 16.00%', ' 23.50%', ' 28.80%',\n",
       "       ' 10.07%', ' 16.77%', ' 24.74%', '  9.63%', '  8.00%', ' 24.37%',\n",
       "       ' 14.38%', ' 30.49%', ' 15.65%', ' 25.28%', ' 11.26%', ' 30.65%',\n",
       "       ' 25.29%', ' 23.32%', ' 11.89%', ' 22.40%', ' 24.24%', ' 16.01%',\n",
       "       ' 22.50%', ' 14.35%', ' 27.49%', ' 21.67%', ' 16.69%', '  6.54%',\n",
       "       ' 22.35%', ' 10.36%', '  7.14%', '  5.99%', ' 22.90%', ' 24.84%',\n",
       "       ' 30.94%', ' 23.83%', ' 14.62%', '  6.17%', ' 23.87%', '  8.60%',\n",
       "       ' 25.34%', '  9.91%', ' 12.53%', ' 25.65%', '  7.29%', ' 10.25%',\n",
       "       ' 11.36%', ' 11.86%', ' 10.00%', ' 26.14%', ' 13.72%', ' 26.99%',\n",
       "       ' 12.18%', ' 12.23%', ' 27.31%', '  5.42%', ' 15.81%', ' 28.34%',\n",
       "       ' 22.11%', ' 22.70%', '  7.40%', ' 15.33%', '  6.83%', ' 18.62%',\n",
       "       ' 30.74%', ' 17.43%', ' 13.92%', ' 30.89%', ' 19.97%', ' 29.49%',\n",
       "       ' 15.27%', ' 16.95%', '  6.91%', ' 22.95%', ' 25.89%', ' 15.68%',\n",
       "       ' 14.96%', ' 23.10%', ' 13.43%', ' 19.36%', ' 15.21%', ' 28.92%',\n",
       "       ' 30.75%', ' 11.11%', ' 23.70%', ' 26.57%', ' 12.84%', ' 13.16%',\n",
       "       '  7.74%', ' 18.30%', ' 28.67%', ' 18.79%', ' 14.27%', ' 18.64%',\n",
       "       ' 29.35%', ' 19.12%', ' 15.58%', ' 13.79%', ' 16.35%', ' 14.26%',\n",
       "       ' 14.17%', ' 16.45%', '  8.88%', ' 14.91%', ' 15.40%', ' 23.76%',\n",
       "       ' 10.81%', '  7.68%', ' 14.83%', ' 25.78%', ' 10.37%', ' 25.09%',\n",
       "       ' 17.93%', ' 18.39%', ' 13.55%', ' 19.69%', ' 14.72%', ' 12.09%',\n",
       "       ' 14.11%', ' 10.38%', ' 17.51%', '  7.43%', ' 11.97%', ' 27.34%',\n",
       "       ' 15.20%', ' 28.88%', ' 24.83%', ' 14.22%', ' 22.78%', ' 25.11%',\n",
       "       ' 12.17%', ' 14.61%', ' 18.17%', ' 16.70%', ' 17.58%', ' 17.88%',\n",
       "       ' 15.95%', ' 11.28%', ' 17.15%', ' 16.63%', '  9.20%', ' 10.62%',\n",
       "       ' 14.59%', ' 19.91%', ' 15.96%', ' 15.70%', ' 13.48%', '  9.56%',\n",
       "       ' 23.33%', ' 15.23%', '  7.75%', ' 11.83%', ' 22.06%', '  8.32%',\n",
       "       '  7.37%', ' 16.89%', ' 29.67%', ' 28.49%', ' 10.95%', '  9.64%',\n",
       "       ' 24.20%', ' 15.62%', ' 13.22%', ' 17.80%', ' 29.96%', ' 20.30%',\n",
       "       ' 11.03%', ' 12.87%', ' 14.54%', ' 19.13%', '  9.96%', '  9.38%',\n",
       "       ' 20.62%', ' 13.24%', ' 17.46%', ' 22.85%', '  8.70%', ' 11.78%',\n",
       "       ' 17.06%', ' 23.52%', ' 13.47%', '  6.76%', ' 15.28%', '  9.88%',\n",
       "       ' 29.00%', ' 10.83%', ' 11.54%', ' 21.22%', ' 17.30%', '  9.45%',\n",
       "       '  9.02%', ' 19.95%', ' 19.41%', ' 14.50%', ' 15.37%', '  9.51%',\n",
       "       ' 12.80%', ' 11.46%', ' 11.66%', ' 19.29%', ' 27.99%', ' 18.43%',\n",
       "       ' 28.95%', ' 10.96%', ' 11.58%', ' 14.71%', ' 20.25%', ' 15.83%',\n",
       "       ' 20.16%', ' 17.04%', ' 16.82%', ' 16.07%', ' 20.85%', ' 12.04%',\n",
       "       ' 21.14%', ' 24.33%', ' 10.39%', ' 18.21%', ' 14.84%', ' 20.69%',\n",
       "       '  7.05%', ' 28.97%', ' 11.34%', ' 20.40%', ' 17.26%', ' 16.08%',\n",
       "       ' 10.28%', ' 22.94%', ' 12.41%', ' 22.48%', '  9.01%', ' 23.26%',\n",
       "       ' 11.41%', '  9.07%', ' 14.02%', ' 10.20%', ' 20.11%', ' 20.74%',\n",
       "       ' 12.36%', ' 20.48%', ' 17.03%', ' 13.30%', ' 12.92%', ' 12.67%',\n",
       "       ' 11.72%', ' 14.75%', '  8.07%', ' 21.27%', ' 10.14%', ' 17.39%',\n",
       "       ' 10.71%', ' 11.09%', ' 10.01%', '  8.63%', ' 20.03%', ' 19.04%',\n",
       "       ' 19.16%', ' 19.79%', ' 20.90%', ' 11.63%', ' 23.91%', ' 10.51%',\n",
       "       ' 15.45%', ' 14.18%'], dtype=object)"
      ]
     },
     "execution_count": 27,
     "metadata": {},
     "output_type": "execute_result"
    }
   ],
   "source": [
    "X_train['int_rate'].unique()"
   ]
  },
  {
   "cell_type": "code",
   "execution_count": 28,
   "id": "ade66f6d",
   "metadata": {
    "scrolled": true
   },
   "outputs": [
    {
     "data": {
      "text/plain": [
       "array(['Apr-2016', 'Sep-2017', 'Aug-2016', 'Aug-2015', 'May-2013',\n",
       "       'Mar-2015', 'May-2017', 'Oct-2015', 'Mar-2017', 'Oct-2014',\n",
       "       'Mar-2016', 'Dec-2016', 'Apr-2015', 'Apr-2013', 'Sep-2015',\n",
       "       'Feb-2015', 'Oct-2017', 'Oct-2013', 'Jun-2016', 'Sep-2013',\n",
       "       'Apr-2017', 'Sep-2018', 'Jul-2014', 'Oct-2016', 'Nov-2014',\n",
       "       'Jul-2015', 'Jan-2015', 'May-2014', 'Dec-2015', 'Feb-2013',\n",
       "       'Dec-2013', 'Nov-2012', 'Jan-2014', 'Aug-2018', 'Jul-2019',\n",
       "       'Jul-2016', 'Mar-2014', 'Jan-2017', 'Nov-2015', 'Aug-2014',\n",
       "       'Dec-2018', 'Aug-2019', 'Dec-2014', 'Jun-2017', 'Nov-2016',\n",
       "       'Sep-2012', 'Mar-2018', 'Jul-2018', 'Jun-2015', 'Jul-2017',\n",
       "       'Dec-2011', 'Apr-2014', 'Feb-2018', 'Jun-2014', 'Mar-2013',\n",
       "       'Sep-2016', 'Jun-2018', 'May-2019', 'Jul-2012', 'Nov-2017',\n",
       "       'Aug-2017', 'Oct-2018', 'May-2016', 'Jan-2012', 'Jan-2016',\n",
       "       'Feb-2016', 'Feb-2020', 'May-2018', 'Mar-2011', 'Feb-2017',\n",
       "       'Feb-2014', 'Jul-2010', 'Jan-2019', 'Apr-2018', 'Apr-2019',\n",
       "       'Jul-2013', 'Jan-2013', 'Jan-2018', 'Aug-2010', 'Nov-2013',\n",
       "       'Aug-2009', 'Jan-2011', 'Nov-2018', 'Apr-2012', 'Oct-2012',\n",
       "       'Feb-2010', 'Nov-2011', 'May-2015', 'Sep-2014', 'May-2011',\n",
       "       'Oct-2011', 'Dec-2017', 'Aug-2020', nan, 'Aug-2013', 'Jun-2011',\n",
       "       'Aug-2012', 'Aug-2011', 'May-2012', 'Feb-2019', 'Jun-2013',\n",
       "       'Mar-2019', 'Mar-2009', 'Sep-2019', 'Dec-2019', 'Dec-2012',\n",
       "       'Oct-2019', 'Sep-2011', 'Jan-2020', 'Jun-2012', 'Mar-2012',\n",
       "       'Apr-2010', 'Jan-2008', 'Feb-2012', 'May-2010', 'Jun-2019',\n",
       "       'Oct-2010', 'Jul-2011', 'Apr-2008', 'May-2009', 'Jun-2009',\n",
       "       'Mar-2020', 'Jan-2010', 'Sep-2009', 'Dec-2010', 'Jan-2009',\n",
       "       'Nov-2010', 'Jul-2008', 'Apr-2011', 'Jun-2010', 'Feb-2011',\n",
       "       'Nov-2019', 'Dec-2009', 'Sep-2010', 'Nov-2008', 'Nov-2009',\n",
       "       'Apr-2009', 'Jul-2009', 'Oct-2008', 'Oct-2009', 'Mar-2010',\n",
       "       'Dec-2008', 'Feb-2009', 'Sep-2020', 'Apr-2020', 'May-2008',\n",
       "       'Dec-2007', 'Jul-2020', 'Sep-2008', 'Feb-2008', 'Jun-2020',\n",
       "       'Aug-2007', 'Sep-2007', 'Oct-2007', 'Mar-2008', 'Jul-2007',\n",
       "       'Nov-2007', 'Aug-2008', 'May-2020', 'Jun-2008'], dtype=object)"
      ]
     },
     "execution_count": 28,
     "metadata": {},
     "output_type": "execute_result"
    }
   ],
   "source": [
    "X_train['issue_d'].unique()"
   ]
  },
  {
   "cell_type": "code",
   "execution_count": 29,
   "id": "fc2a50a5",
   "metadata": {},
   "outputs": [
    {
     "data": {
      "text/plain": [
       "array([16000.,  6600., 10000., ..., 35325., 39350., 37925.])"
      ]
     },
     "execution_count": 29,
     "metadata": {},
     "output_type": "execute_result"
    }
   ],
   "source": [
    "X_train['loan_amnt'].unique()"
   ]
  },
  {
   "cell_type": "code",
   "execution_count": 30,
   "id": "92b7f8be",
   "metadata": {},
   "outputs": [
    {
     "data": {
      "text/plain": [
       "array([ 5.,  2.,  3.,  0.,  1.,  7.,  4.,  6.,  8., nan, 22., 11.,  9.,\n",
       "       10., 19., 12., 17., 24., 13., 14., 15., 18., 16., 27., 20., 34.,\n",
       "       21., 23.])"
      ]
     },
     "execution_count": 30,
     "metadata": {},
     "output_type": "execute_result"
    }
   ],
   "source": [
    "X_train['mort_acc'].unique()"
   ]
  },
  {
   "cell_type": "code",
   "execution_count": 31,
   "id": "a08552c1",
   "metadata": {},
   "outputs": [
    {
     "data": {
      "text/plain": [
       "array([ 50.,  nan,  10.,  24.,  51.,  13.,  46.,  72.,   5.,  15.,  33.,\n",
       "        27.,  32.,  37.,   7.,   9.,  11.,  23.,  22.,  59.,  76.,  78.,\n",
       "        67.,  31.,  66.,   3.,   8.,  41.,   0.,  34.,  21.,  42.,  45.,\n",
       "        53.,  62.,  35.,   2.,   4.,  17.,  14.,  48.,  71.,  74.,  36.,\n",
       "        57.,  29.,  56.,  43.,   6.,  65.,  81.,  19.,  69.,  77.,  30.,\n",
       "        60.,  47.,  61.,  12.,  54.,  18.,  16.,  52.,  82.,  79.,  28.,\n",
       "        70.,  20.,  26.,  75.,  73.,  39.,  63.,  25.,  80.,  40.,  83.,\n",
       "        68.,  44.,  55.,  38.,  49.,   1.,  64.,  96.,  58.,  84.,  91.,\n",
       "       112.,  88., 158.,  87.,  85.,  98., 188., 102.,  97.,  93., 101.,\n",
       "        94.,  86., 103., 122., 126.,  92., 110., 121., 130., 113., 108.,\n",
       "       111., 120.,  90., 124., 105., 115.,  99., 114.,  95., 100., 140.,\n",
       "       104.,  89., 133., 106., 131., 123., 149., 116., 125., 146., 135.,\n",
       "       119., 118., 107., 109.])"
      ]
     },
     "execution_count": 31,
     "metadata": {},
     "output_type": "execute_result"
    }
   ],
   "source": [
    "X_train['mths_since_last_delinq'].unique()"
   ]
  },
  {
   "cell_type": "code",
   "execution_count": 32,
   "id": "90cffe07",
   "metadata": {},
   "outputs": [
    {
     "data": {
      "text/plain": [
       "array([ 65.,  nan,  41.,  46.,  69.,  16.,  67.,  37.,  11.,  23.,  66.,\n",
       "         5.,  29.,  21.,  79.,  13.,  24.,  34.,  38.,  60.,   7.,  35.,\n",
       "        39.,  95.,  14.,  62.,  51.,  36.,  56.,  32.,  81.,  80.,  43.,\n",
       "        61.,  54.,  18.,  30.,  48.,  82.,   4.,  72.,  28.,  74.,  47.,\n",
       "        17.,  19.,  10.,   3.,  78.,  15.,   9.,  64.,  57.,  40.,  22.,\n",
       "        25.,  31.,  33.,  99.,  42.,  71.,   6.,  76.,  58.,  50.,  75.,\n",
       "         8.,  12.,   0.,  45.,  83.,  27.,  68.,  63.,   2.,  55.,  49.,\n",
       "        77.,  70.,  26.,  20.,  44.,  96.,  73.,  52.,  84.,  59.,  53.,\n",
       "       124.,  98.,   1., 101.,  87.,  86.,  85.,  88., 158., 107., 120.,\n",
       "       105., 112.,  97.,  93.,  94., 111., 194.,  89., 103.,  91., 162.,\n",
       "       122., 126., 121., 102.,  90., 154.,  92., 109., 108., 100., 117.,\n",
       "       114., 106., 113., 125., 110., 131., 119., 140., 116., 133., 104.,\n",
       "       128., 123., 134., 130., 149., 156., 146., 135.])"
      ]
     },
     "execution_count": 32,
     "metadata": {},
     "output_type": "execute_result"
    }
   ],
   "source": [
    "X_train['mths_since_recent_bc_dlq'].unique()"
   ]
  },
  {
   "cell_type": "code",
   "execution_count": 33,
   "id": "dd595409",
   "metadata": {},
   "outputs": [
    {
     "data": {
      "text/plain": [
       "array([ 6., nan, 13., 16., 15., 11.,  9.,  4., 23.,  1.,  0., 22.,  7.,\n",
       "        5.,  8.,  2., 10., 12.,  3., 14., 21., 19., 24., 17., 18., 20.,\n",
       "       25.])"
      ]
     },
     "execution_count": 33,
     "metadata": {},
     "output_type": "execute_result"
    }
   ],
   "source": [
    "X_train['mths_since_recent_inq'].unique()"
   ]
  },
  {
   "cell_type": "code",
   "execution_count": 34,
   "id": "922125a6",
   "metadata": {},
   "outputs": [
    {
     "data": {
      "text/plain": [
       "array([ 3.,  0.,  1.,  2., nan,  8.,  4.,  5.,  9.,  6.,  7., 19., 11.,\n",
       "       15., 12., 10., 13., 21., 14., 18., 29., 22., 26., 37., 17., 28.,\n",
       "       16., 27., 20., 24., 30., 23., 34., 36., 38., 25., 32.])"
      ]
     },
     "execution_count": 34,
     "metadata": {},
     "output_type": "execute_result"
    }
   ],
   "source": [
    "X_train['num_accts_ever_120_pd'].unique()"
   ]
  },
  {
   "cell_type": "code",
   "execution_count": 35,
   "id": "5f8ad3cf",
   "metadata": {},
   "outputs": [
    {
     "data": {
      "text/plain": [
       "array([ 4.,  3.,  1.,  2.,  6.,  5.,  9.,  0., 11., 12.,  7., 10.,  8.,\n",
       "       nan, 14., 13., 16., 15., 32., 18., 17., 24., 19., 20., 22., 30.,\n",
       "       21., 25., 23., 45., 27.])"
      ]
     },
     "execution_count": 35,
     "metadata": {},
     "output_type": "execute_result"
    }
   ],
   "source": [
    "X_train['num_actv_bc_tl'].unique()"
   ]
  },
  {
   "cell_type": "code",
   "execution_count": 36,
   "id": "e5eb0291",
   "metadata": {},
   "outputs": [
    {
     "data": {
      "text/plain": [
       "array([ 17.,   8.,  23.,  11.,   3.,   7.,  33.,  22.,  10.,  20.,   9.,\n",
       "        19.,  41.,  18.,  14.,  12.,  29.,  25.,   6.,  48.,  15.,  16.,\n",
       "        45.,   5.,  40.,  31.,  34.,  50.,  13.,  21.,  30.,  nan,   4.,\n",
       "        49.,  26.,   2.,  35.,  28.,  27.,  24.,  32.,  36.,  52.,  38.,\n",
       "        44.,  58.,  39.,  37.,  57.,  51.,  43.,  47.,   1.,  46.,  55.,\n",
       "        42.,  53.,  60.,  67.,  56.,  61.,  64.,  62.,  59.,  54.,  72.,\n",
       "        78.,  71.,  86.,  90.,  63.,  65.,  66.,  69.,  75., 101.,  83.,\n",
       "        68.,  74.,  82., 112.,  76.,  70., 104.,  96.,  73., 103.,  89.,\n",
       "        77.,  81.])"
      ]
     },
     "execution_count": 36,
     "metadata": {},
     "output_type": "execute_result"
    }
   ],
   "source": [
    "X_train['num_rev_accts'].unique()"
   ]
  },
  {
   "cell_type": "code",
   "execution_count": 37,
   "id": "682f5d93",
   "metadata": {},
   "outputs": [
    {
     "data": {
      "text/plain": [
       "array([14.,  5.,  7., 19.,  4.,  6.,  8., 11., 10., 30., 16., 15.,  9.,\n",
       "       12., 31., 17., 13., 21.,  3., 18., 22.,  2., 25., nan, 32., 20.,\n",
       "       23., 26., 24., 29., 33., 27., 36., 28., 38., 34.,  1., 44., 35.,\n",
       "       52., 41., 37., 40., 43., 45., 42., 59., 48., 39., 70., 58., 46.,\n",
       "       57., 51.,  0., 49., 62., 47., 50., 79., 74., 53., 55., 76., 72.,\n",
       "       78., 80., 81., 63., 61., 60., 56.])"
      ]
     },
     "execution_count": 37,
     "metadata": {},
     "output_type": "execute_result"
    }
   ],
   "source": [
    "X_train['num_sats'].unique()"
   ]
  },
  {
   "cell_type": "code",
   "execution_count": 38,
   "id": "e3ebf1e9",
   "metadata": {},
   "outputs": [
    {
     "data": {
      "text/plain": [
       "array([ 0., nan,  1.,  2.])"
      ]
     },
     "execution_count": 38,
     "metadata": {},
     "output_type": "execute_result"
    }
   ],
   "source": [
    "X_train['num_tl_120dpd_2m'].unique()"
   ]
  },
  {
   "cell_type": "code",
   "execution_count": 39,
   "id": "efdd9703",
   "metadata": {},
   "outputs": [
    {
     "data": {
      "text/plain": [
       "array([ 0.,  1., nan,  2.,  3.,  4.])"
      ]
     },
     "execution_count": 39,
     "metadata": {},
     "output_type": "execute_result"
    }
   ],
   "source": [
    "X_train['num_tl_30dpd'].unique()"
   ]
  },
  {
   "cell_type": "code",
   "execution_count": 40,
   "id": "12044ae2",
   "metadata": {},
   "outputs": [
    {
     "data": {
      "text/plain": [
       "array([ 0.,  1., nan,  2.,  4.,  3., 10.,  5.,  6.,  7.,  8.,  9., 14.,\n",
       "       11., 12., 13., 15., 20., 30., 17., 19., 18., 16., 26.])"
      ]
     },
     "execution_count": 40,
     "metadata": {},
     "output_type": "execute_result"
    }
   ],
   "source": [
    "X_train['num_tl_90g_dpd_24m'].unique()"
   ]
  },
  {
   "cell_type": "code",
   "execution_count": 41,
   "id": "ca871c45",
   "metadata": {},
   "outputs": [
    {
     "data": {
      "text/plain": [
       "array([ 3.,  0.,  4.,  1.,  2.,  5.,  6., nan,  7.,  8.,  9., 10., 11.,\n",
       "       15., 12., 13., 16., 14., 24., 29., 17., 18., 21., 19., 23., 25.,\n",
       "       20.])"
      ]
     },
     "execution_count": 41,
     "metadata": {},
     "output_type": "execute_result"
    }
   ],
   "source": [
    "X_train['num_tl_op_past_12m'].unique()"
   ]
  },
  {
   "cell_type": "code",
   "execution_count": 42,
   "id": "007dd2fa",
   "metadata": {},
   "outputs": [
    {
     "data": {
      "text/plain": [
       "array([14.,  5.,  7., 19.,  4.,  8.,  6., 11., 10., 30., 13., 16., 15.,\n",
       "        9., 12., 31., 17., 21., 37.,  3., 18., 23.,  2., 25., 22., 32.,\n",
       "       20., 26., 24., 29., 33., 27., nan, 36., 28., 38., 35.,  1., 44.,\n",
       "       52., 41., 40., 43., 34., 45., 42., 59., 48., 39., 70., 86., 46.,\n",
       "       57., 51.,  0., 58., 49., 62., 47., 79., 74., 50., 53., 55., 76.,\n",
       "       72., 78., 80., 81., 63., 61., 60., 56.])"
      ]
     },
     "execution_count": 42,
     "metadata": {},
     "output_type": "execute_result"
    }
   ],
   "source": [
    "X_train['open_acc'].unique()"
   ]
  },
  {
   "cell_type": "code",
   "execution_count": 43,
   "id": "7980f02e",
   "metadata": {},
   "outputs": [
    {
     "data": {
      "text/plain": [
       "array([ 2.,  0., nan,  3.,  1.,  4.,  5.,  7.,  6., 11.,  9.,  8., 12.,\n",
       "       14., 10., 15., 13., 20., 17., 16., 18., 19., 26.])"
      ]
     },
     "execution_count": 43,
     "metadata": {},
     "output_type": "execute_result"
    }
   ],
   "source": [
    "X_train['open_il_24m'].unique()"
   ]
  },
  {
   "cell_type": "code",
   "execution_count": 44,
   "id": "781f8695",
   "metadata": {},
   "outputs": [
    {
     "data": {
      "text/plain": [
       "array([ 3.,  1., nan,  2.,  7.,  0.,  5., 14.,  8.,  4.,  6., 12.,  9.,\n",
       "       10., 11., 24., 21., 13., 18., 15., 16., 20., 17., 19., 23., 25.,\n",
       "       26., 22., 28., 30., 27., 38., 29., 34., 37., 33.])"
      ]
     },
     "execution_count": 44,
     "metadata": {},
     "output_type": "execute_result"
    }
   ],
   "source": [
    "X_train['open_rv_24m'].unique()"
   ]
  },
  {
   "cell_type": "code",
   "execution_count": 45,
   "id": "c3e5128e",
   "metadata": {
    "scrolled": true
   },
   "outputs": [
    {
     "data": {
      "text/plain": [
       "array([100.  ,   0.  ,  33.3 ,  50.  ,  66.7 ,  62.5 ,  25.  ,  88.9 ,\n",
       "        60.  ,  20.  ,  40.  ,  57.1 ,  28.6 ,  75.  ,  11.1 ,  42.9 ,\n",
       "        21.4 ,   8.3 ,    nan,  71.4 ,  16.7 ,   6.7 ,  12.5 ,  55.6 ,\n",
       "        90.9 ,  14.3 ,  22.2 ,  30.8 ,   6.3 ,  85.7 ,  83.3 ,  80.  ,\n",
       "        84.6 ,   7.7 ,  90.  ,  87.5 ,  37.5 ,  77.8 ,  92.9 ,  38.5 ,\n",
       "        18.2 ,  46.2 ,  36.4 ,  44.4 ,  81.8 ,  41.7 ,  10.  ,   5.  ,\n",
       "        72.7 ,  58.3 ,  53.8 ,  23.5 ,   9.1 ,  15.4 ,  30.  ,  63.6 ,\n",
       "        68.7 ,   7.1 ,   5.3 ,  27.3 ,  53.3 ,  31.2 ,  70.  ,  54.5 ,\n",
       "         0.57,  45.5 ,   9.5 ,  31.3 ,  69.2 ,  86.7 ,   0.5 ,  23.1 ,\n",
       "        78.6 ,  61.5 ,   0.6 ,  13.3 ,  76.5 ,  94.4 ,  11.8 ,  26.7 ,\n",
       "        92.3 ,  73.3 ,  38.9 ,  11.5 ,   5.6 ,   5.9 ,  21.1 ,   4.5 ,\n",
       "        31.6 ,  46.7 ,  10.5 ,  29.4 ,  18.8 ,  91.7 ,  52.9 ,   1.  ,\n",
       "        26.3 ,  35.3 ,  41.2 ,  17.6 ,  43.8 ,  15.  ,  76.9 ,   0.33,\n",
       "        36.8 ,  35.7 ,  82.4 ,  64.3 ,   6.2 ,  22.7 ,  26.1 ,  17.4 ,\n",
       "        24.1 ,  10.3 ,  95.5 ,  47.1 ,  19.  ,  30.4 ,  70.6 ,  18.7 ,\n",
       "        31.8 ,  35.  ,  88.2 ,   4.2 ,  94.1 ,  15.8 ,   3.7 ,  27.8 ,\n",
       "         0.25,   4.3 ,   3.8 ,  43.5 ,   8.  ,   0.67,  78.9 ,  56.2 ,\n",
       "        81.2 ,   4.8 ,  43.7 ,  93.8 ,  58.8 ,  52.  ,  81.3 ,  56.3 ,\n",
       "        72.2 ,  89.5 ,  78.3 ,  42.1 ,  93.7 ,  47.6 ,  45.  ,  18.5 ,\n",
       "         4.  ,  14.8 ,  13.6 ,  64.7 ,  63.2 ,  17.9 ,  40.9 ,  52.4 ,\n",
       "        93.3 ,  39.1 ,   0.2 ,  55.  ,  68.4 ,  52.2 ,  52.6 ,  68.8 ,\n",
       "         0.38,  95.  ,  47.4 ,   8.7 ,   3.  ,  13.  ,   0.75,  34.8 ,\n",
       "         0.82,  57.9 ,  73.7 ,  61.1 ,  23.8 ])"
      ]
     },
     "execution_count": 45,
     "metadata": {},
     "output_type": "execute_result"
    }
   ],
   "source": [
    "X_train['percent_bc_gt_75'].unique()"
   ]
  },
  {
   "cell_type": "code",
   "execution_count": 46,
   "id": "8f5b05bf",
   "metadata": {},
   "outputs": [
    {
     "data": {
      "text/plain": [
       "array([ 1.,  0.,  2.,  3., nan,  4.,  5., 14.,  8.,  6.,  7., 11., 10.,\n",
       "        9., 15., 28., 12., 20., 13.])"
      ]
     },
     "execution_count": 46,
     "metadata": {},
     "output_type": "execute_result"
    }
   ],
   "source": [
    "X_train['pub_rec'].unique()"
   ]
  },
  {
   "cell_type": "code",
   "execution_count": 47,
   "id": "bf386287",
   "metadata": {},
   "outputs": [
    {
     "data": {
      "text/plain": [
       "array([ 1.,  0.,  2., nan,  3.,  7.,  4.,  5.,  6.,  9.])"
      ]
     },
     "execution_count": 47,
     "metadata": {},
     "output_type": "execute_result"
    }
   ],
   "source": [
    "X_train['pub_rec_bankruptcies'].unique()"
   ]
  },
  {
   "cell_type": "code",
   "execution_count": 48,
   "id": "8baf6a49",
   "metadata": {},
   "outputs": [
    {
     "data": {
      "text/plain": [
       "array(['credit_card', 'car', 'other', 'debt_consolidation',\n",
       "       'major_purchase', 'small_business', 'home_improvement', 'moving',\n",
       "       'medical', 'wedding', 'vacation', 'house', nan, 'renewable_energy',\n",
       "       'educational'], dtype=object)"
      ]
     },
     "execution_count": 48,
     "metadata": {},
     "output_type": "execute_result"
    }
   ],
   "source": [
    "X_train['purpose'].unique()"
   ]
  },
  {
   "cell_type": "code",
   "execution_count": 49,
   "id": "90de6e3e",
   "metadata": {},
   "outputs": [
    {
     "data": {
      "text/plain": [
       "array(['56.1%', '88.3%', '18.1%', ..., '103.1%', '173.2%', '109.8%'],\n",
       "      dtype=object)"
      ]
     },
     "execution_count": 49,
     "metadata": {},
     "output_type": "execute_result"
    }
   ],
   "source": [
    "X_train['revol_util'].unique()"
   ]
  },
  {
   "cell_type": "code",
   "execution_count": 50,
   "id": "487443ef",
   "metadata": {},
   "outputs": [
    {
     "data": {
      "text/plain": [
       "array([ 0.,  1.,  2., nan,  3.,  4.,  5., 13.,  7.,  6.,  8., 10.,  9.,\n",
       "       15., 27., 11., 12., 18.])"
      ]
     },
     "execution_count": 50,
     "metadata": {},
     "output_type": "execute_result"
    }
   ],
   "source": [
    "X_train['tax_liens'].unique()"
   ]
  },
  {
   "cell_type": "code",
   "execution_count": 51,
   "id": "cab3f4fc",
   "metadata": {},
   "outputs": [
    {
     "data": {
      "text/plain": [
       "array([' 36 months', ' 60 months', nan], dtype=object)"
      ]
     },
     "execution_count": 51,
     "metadata": {},
     "output_type": "execute_result"
    }
   ],
   "source": [
    "X_train['term'].unique()"
   ]
  },
  {
   "cell_type": "code",
   "execution_count": 52,
   "id": "d3ec5d41",
   "metadata": {},
   "outputs": [
    {
     "data": {
      "text/plain": [
       "array(['Credit card refinancing', 'Car financing', 'Other', ...,\n",
       "       'The Next Step', 'credit cards debt consolidation',\n",
       "       'Car and Credit Card debt consolidate'], dtype=object)"
      ]
     },
     "execution_count": 52,
     "metadata": {},
     "output_type": "execute_result"
    }
   ],
   "source": [
    "X_train['title'].unique()"
   ]
  },
  {
   "cell_type": "code",
   "execution_count": 53,
   "id": "cb7d74c0",
   "metadata": {},
   "outputs": [
    {
     "data": {
      "text/plain": [
       "array([ 26.,  11.,  31.,  24.,  16.,  21.,  29.,   7.,  23.,  46.,  34.,\n",
       "        19.,  25.,  18.,  13.,  20.,  15.,   6.,  14.,  12.,  30.,  50.,\n",
       "        28.,  32.,  38.,  76.,  10.,  33.,  17.,   5.,  40.,  35.,  36.,\n",
       "        43.,   8.,  27.,  22.,  42.,   4.,  44.,  52.,  47.,  37.,   9.,\n",
       "        66.,  41.,  57.,   3.,  63.,  53.,   2.,  45.,  39.,  49.,  70.,\n",
       "        56.,  69.,  61.,  64.,  54.,  48.,  nan,  51.,  58.,  85.,  55.,\n",
       "        59.,  65.,  62.,  60.,  84.,  73.,  67.,  74.,  68.,  78.,  82.,\n",
       "        75.,  77.,  72.,  96.,  81.,  86.,  71.,  79.,  92.,  93.,  80.,\n",
       "        88.,  95.,  90., 135.,  91.,  83.,  94.,  89., 105.,  87., 109.,\n",
       "       100., 138.,  97., 112., 157., 102., 123., 125., 106., 101., 108.,\n",
       "       120., 104., 107.,  98.])"
      ]
     },
     "execution_count": 53,
     "metadata": {},
     "output_type": "execute_result"
    }
   ],
   "source": [
    "X_train['total_acc'].unique()"
   ]
  },
  {
   "cell_type": "code",
   "execution_count": 55,
   "id": "d512c93b",
   "metadata": {},
   "outputs": [
    {
     "data": {
      "text/plain": [
       "array(['Source Verified', 'Not Verified', 'Verified', nan], dtype=object)"
      ]
     },
     "execution_count": 55,
     "metadata": {},
     "output_type": "execute_result"
    }
   ],
   "source": [
    "X_train['verification_status'].unique()"
   ]
  },
  {
   "cell_type": "code",
   "execution_count": 57,
   "id": "08087bd1",
   "metadata": {},
   "outputs": [
    {
     "data": {
      "text/plain": [
       "array(['847xx;', '900xx;', '895xx;', '853xx;', '453xx;', '767xx;',\n",
       "       '983xx;', '322xx;', '019xx;', '211xx;', '225xx;', '775xx;',\n",
       "       '917xx;', '460xx;', '328xx;', '376xx;', '985xx;', '303xx;',\n",
       "       '207xx;', '038xx;', '786xx;', '294xx;', '079xx;', '282xx;',\n",
       "       '554xx;', '550xx;', '331xx;', '381xx;', '359xx;', '152xx;',\n",
       "       '310xx;', '336xx;', '910xx;', '070xx;', '774xx;', '945xx;',\n",
       "       '441xx;', '921xx;', '370xx;', '442xx;', '212xx;', '665xx;',\n",
       "       '750xx;', '873xx;', '172xx;', '104xx;', '423xx;', '404xx;',\n",
       "       '481xx;', '953xx;', '891xx;', '274xx;', '982xx;', '805xx;',\n",
       "       '972xx;', '799xx;', '933xx;', '087xx;', '200xx;', '773xx;',\n",
       "       '302xx;', '013xx;', '606xx;', '371xx;', '462xx;', '080xx;',\n",
       "       '493xx;', '727xx;', '905xx;', '430xx;', '030xx;', '787xx;',\n",
       "       '926xx;', '560xx;', '956xx;', '472xx;', '711xx;', '936xx;',\n",
       "       '357xx;', '103xx;', '601xx;', '078xx;', '064xx;', '100xx;',\n",
       "       '844xx;', '208xx;', '461xx;', '495xx;', '054xx;', '800xx;',\n",
       "       '770xx;', '238xx;', '117xx;', '535xx;', '922xx;', '284xx;',\n",
       "       '548xx;', '334xx;', '335xx;', '107xx;', '713xx;', '986xx;',\n",
       "       '195xx;', '052xx;', '097xx;', '563xx;', '280xx;', '324xx;',\n",
       "       '278xx;', '342xx;', '327xx;', '677xx;', '954xx;', '802xx;',\n",
       "       '746xx;', '395xx;', '816xx;', '230xx;', '379xx;', '630xx;',\n",
       "       '840xx;', '112xx;', '925xx;', '307xx;', '852xx;', '088xx;',\n",
       "       '658xx;', '296xx;', '295xx;', '820xx;', '114xx;', '782xx;',\n",
       "       '913xx;', '454xx;', '029xx;', '314xx;', '940xx;', '268xx;',\n",
       "       '321xx;', '111xx;', '245xx;', '113xx;', '571xx;', '829xx;',\n",
       "       '710xx;', '162xx;', '060xx;', '471xx;', '276xx;', '134xx;',\n",
       "       '300xx;', '201xx;', '236xx;', '281xx;', '628xx;', '223xx;',\n",
       "       '930xx;', '198xx;', '973xx;', '463xx;', '021xx;', '234xx;',\n",
       "       '320xx;', '740xx;', '023xx;', '488xx;', '602xx;', '707xx;',\n",
       "       '928xx;', '762xx;', '907xx;', '237xx;', '071xx;', '700xx;',\n",
       "       '032xx;', '605xx;', '344xx;', '130xx;', '285xx;', '122xx;',\n",
       "       '333xx;', '718xx;', '890xx;', '920xx;', '018xx;', '631xx;',\n",
       "       '761xx;', '790xx;', '993xx;', '028xx;', '299xx;', '855xx;',\n",
       "       '640xx;', '125xx;', '067xx;', '720xx;', '115xx;', '244xx;',\n",
       "       '316xx;', '967xx;', '102xx;', '992xx;', '902xx;', '784xx;',\n",
       "       '760xx;', '160xx;', '197xx;', '957xx;', '660xx;', '935xx;',\n",
       "       '469xx;', '283xx;', '919xx;', '365xx;', '292xx;', '240xx;',\n",
       "       '337xx;', '592xx;', '633xx;', '932xx;', '946xx;', '372xx;',\n",
       "       '011xx;', '366xx;', '027xx;', '783xx;', '480xx;', '398xx;',\n",
       "       '604xx;', '766xx;', '600xx;', '222xx;', '317xx;', '751xx;',\n",
       "       '349xx;', '625xx;', '951xx;', '776xx;', '850xx;', '995xx;',\n",
       "       '402xx;', '781xx;', '210xx;', '809xx;', '186xx;', '189xx;',\n",
       "       '077xx;', '721xx;', '109xx;', '305xx;', '131xx;', '837xx;',\n",
       "       '261xx;', '156xx;', '730xx;', '168xx;', '871xx;', '941xx;',\n",
       "       '145xx;', '836xx;', '752xx;', '105xx;', '368xx;', '339xx;',\n",
       "       '089xx;', '537xx;', '723xx;', nan, '183xx;', '150xx;', '531xx;',\n",
       "       '908xx;', '290xx;', '298xx;', '712xx;', '443xx;', '785xx;',\n",
       "       '611xx;', '681xx;', '301xx;', '483xx;', '791xx;', '378xx;',\n",
       "       '170xx;', '065xx;', '981xx;', '551xx;', '330xx;', '705xx;',\n",
       "       '648xx;', '148xx;', '447xx;', '191xx;', '801xx;', '267xx;',\n",
       "       '719xx;', '452xx;', '622xx;', '326xx;', '448xx;', '950xx;',\n",
       "       '944xx;', '116xx;', '539xx;', '297xx;', '587xx;', '180xx;',\n",
       "       '875xx;', '549xx;', '074xx;', '319xx;', '132xx;', '980xx;',\n",
       "       '017xx;', '386xx;', '196xx;', '562xx;', '961xx;', '121xx;',\n",
       "       '215xx;', '825xx;', '546xx;', '553xx;', '315xx;', '241xx;',\n",
       "       '958xx;', '960xx;', '184xx;', '390xx;', '119xx;', '352xx;',\n",
       "       '253xx;', '120xx;', '380xx;', '286xx;', '179xx;', '656xx;',\n",
       "       '383xx;', '714xx;', '354xx;', '637xx;', '231xx;', '144xx;',\n",
       "       '974xx;', '466xx;', '279xx;', '906xx;', '242xx;', '346xx;',\n",
       "       '437xx;', '486xx;', '851xx;', '360xx;', '614xx;', '435xx;',\n",
       "       '780xx;', '034xx;', '701xx;', '085xx;', '984xx;', '275xx;',\n",
       "       '020xx;', '857xx;', '735xx;', '792xx;', '641xx;', '081xx;',\n",
       "       '263xx;', '140xx;', '190xx;', '220xx;', '968xx;', '072xx;',\n",
       "       '405xx;', '287xx;', '923xx;', '323xx;', '765xx;', '217xx;',\n",
       "       '468xx;', '325xx;', '351xx;', '612xx;', '209xx;', '037xx;',\n",
       "       '206xx;', '309xx;', '118xx;', '068xx;', '970xx;', '754xx;',\n",
       "       '477xx;', '142xx;', '617xx;', '373xx;', '490xx;', '482xx;',\n",
       "       '708xx;', '044xx;', '146xx;', '544xx;', '451xx;', '779xx;',\n",
       "       '597xx;', '239xx;', '881xx;', '736xx;', '789xx;', '033xx;',\n",
       "       '306xx;', '221xx;', '061xx;', '499xx;', '731xx;', '135xx;',\n",
       "       '154xx;', '911xx;', '647xx;', '934xx;', '494xx;', '338xx;',\n",
       "       '759xx;', '559xx;', '664xx;', '151xx;', '166xx;', '232xx;',\n",
       "       '449xx;', '859xx;', '670xx;', '178xx;', '652xx;', '272xx;',\n",
       "       '397xx;', '532xx;', '487xx;', '530xx;', '431xx;', '456xx;',\n",
       "       '289xx;', '989xx;', '181xx;', '124xx;', '329xx;', '949xx;',\n",
       "       '804xx;', '063xx;', '159xx;', '255xx;', '403xx;', '252xx;',\n",
       "       '106xx;', '706xx;', '418xx;', '388xx;', '062xx;', '432xx;',\n",
       "       '939xx;', '254xx;', '158xx;', '176xx;', '484xx;', '444xx;',\n",
       "       '894xx;', '439xx;', '194xx;', '835xx;', '567xx;', '086xx;',\n",
       "       '129xx;', '450xx;', '491xx;', '650xx;', '277xx;', '918xx;',\n",
       "       '671xx;', '457xx;', '347xx;', '489xx;', '141xx;', '937xx;',\n",
       "       '916xx;', '410xx;', '756xx;', '173xx;', '015xx;', '724xx;',\n",
       "       '271xx;', '615xx;', '593xx;', '440xx;', '128xx;', '863xx;',\n",
       "       '455xx;', '216xx;', '806xx;', '599xx;', '358xx;', '010xx;',\n",
       "       '133xx;', '436xx;', '904xx;', '947xx;', '943xx;', '293xx;',\n",
       "       '653xx;', '193xx;', '016xx;', '975xx;', '040xx;', '076xx;',\n",
       "       '458xx;', '734xx;', '959xx;', '912xx;', '764xx;', '175xx;',\n",
       "       '024xx;', '393xx;', '798xx;', '794xx;', '313xx;', '931xx;',\n",
       "       '377xx;', '618xx;', '822xx;', '392xx;', '012xx;', '224xx;',\n",
       "       '163xx;', '741xx;', '757xx;', '609xx;', '363xx;', '384xx;',\n",
       "       '833xx;', '703xx;', '810xx;', '073xx;', '446xx;', '903xx;',\n",
       "       '864xx;', '778xx;', '218xx;', '187xx;', '580xx;', '492xx;',\n",
       "       '582xx;', '291xx;', '666xx;', '952xx;', '031xx;', '541xx;',\n",
       "       '977xx;', '914xx;', '035xx;', '361xx;', '557xx;', '793xx;',\n",
       "       '704xx;', '543xx;', '396xx;', '915xx;', '246xx;', '153xx;',\n",
       "       '651xx;', '841xx;', '725xx;', '304xx;', '497xx;', '581xx;',\n",
       "       '657xx;', '177xx;', '136xx;', '058xx;', '834xx;', '235xx;',\n",
       "       '318xx;', '998xx;', '856xx;', '199xx;', '893xx;', '042xx;',\n",
       "       '763xx;', '362xx;', '678xx;', '638xx;', '400xx;', '755xx;',\n",
       "       '174xx;', '025xx;', '575xx;', '260xx;', '585xx;', '743xx;',\n",
       "       '955xx;', '394xx;', '425xx;', '547xx;', '026xx;', '729xx;',\n",
       "       '478xx;', '465xx;', '475xx;', '464xx;', '662xx;', '627xx;',\n",
       "       '827xx;', '595xx;', '565xx;', '479xx;', '598xx;', '433xx;',\n",
       "       '273xx;', '075xx;', '227xx;', '744xx;', '811xx;', '356xx;',\n",
       "       '979xx;', '542xx;', '496xx;', '747xx;', '948xx;', '341xx;',\n",
       "       '049xx;', '722xx;', '808xx;', '226xx;', '126xx;', '688xx;',\n",
       "       '607xx;', '803xx;', '473xx;', '308xx;', '161xx;', '927xx;',\n",
       "       '138xx;', '674xx;', '262xx;', '082xx;', '185xx;', '596xx;',\n",
       "       '769xx;', '270xx;', '401xx;', '228xx;', '860xx;', '417xx;',\n",
       "       '247xx;', '558xx;', '182xx;', '685xx;', '629xx;', '219xx;',\n",
       "       '684xx;', '687xx;', '655xx;', '069xx;', '022xx;', '350xx;',\n",
       "       '883xx;', '978xx;', '257xx;', '101xx;', '066xx;', '636xx;',\n",
       "       '880xx;', '534xx;', '812xx;', '603xx;', '796xx;', '716xx;',\n",
       "       '127xx;', '797xx;', '083xx;', '815xx;', '556xx;', '540xx;',\n",
       "       '476xx;', '620xx;', '843xx;', '846xx;', '155xx;', '768xx;',\n",
       "       '777xx;', '996xx;', '616xx;', '385xx;', '110xx;', '874xx;',\n",
       "       '312xx;', '057xx;', '123xx;', '407xx;', '382xx;', '971xx;',\n",
       "       '264xx;', '748xx;', '610xx;', '139xx;', '355xx;', '990xx;',\n",
       "       '426xx;', '422xx;', '214xx;', '644xx;', '608xx;', '171xx;',\n",
       "       '164xx;', '669xx;', '165xx;', '870xx;', '728xx;', '474xx;',\n",
       "       '014xx;', '826xx;', '672xx;', '691xx;', '053xx;', '421xx;',\n",
       "       '108xx;', '594xx;', '667xx;', '374xx;', '626xx;', '772xx;',\n",
       "       '406xx;', '266xx;', '624xx;', '997xx;', '050xx;', '233xx;',\n",
       "       '258xx;', '391xx;', '645xx;', '470xx;', '147xx;', '668xx;',\n",
       "       '169xx;', '988xx;', '976xx;', '445xx;', '824xx;', '420xx;',\n",
       "       '661xx;', '157xx;', '229xx;', '243xx;', '613xx;', '832xx;',\n",
       "       '676xx;', '673xx;', '485xx;', '427xx;', '576xx;', '288xx;',\n",
       "       '588xx;', '041xx;', '561xx;', '623xx;', '813xx;', '680xx;',\n",
       "       '424xx;', '091xx;', '047xx;', '758xx;', '654xx;', '745xx;',\n",
       "       '332xx;', '364xx;', '717xx;', '137xx;', '591xx;', '036xx;',\n",
       "       '411xx;', '635xx;', '167xx;', '814xx;', '639xx;', '259xx;',\n",
       "       '634xx;', '898xx;', '739xx;', '807xx;', '584xx;', '434xx;',\n",
       "       '498xx;', '788xx;', '143xx;', '577xx;', '265xx;', '367xx;',\n",
       "       '389xx;', '882xx;', '202xx;', '924xx;', '570xx;', '467xx;',\n",
       "       '573xx;', '438xx;', '838xx;', '897xx;', '250xx;', '416xx;',\n",
       "       '249xx;', '726xx;', '574xx;', '545xx;', '795xx;', '679xx;',\n",
       "       '090xx;', '409xx;', '564xx;', '991xx;', '749xx;', '878xx;',\n",
       "       '828xx;', '586xx;', '096xx;', '051xx;', '590xx;', '149xx;',\n",
       "       '566xx;', '369xx;', '823xx;', '830xx;', '256xx;', '538xx;',\n",
       "       '572xx;', '619xx;', '737xx;', '056xx;', '999xx;', '248xx;',\n",
       "       '865xx;', '686xx;', '045xx;', '583xx;', '675xx;', '877xx;',\n",
       "       '738xx;', '413xx;', '188xx;', '693xx;', '994xx;', '059xx;',\n",
       "       '689xx;', '415xx;', '879xx;', '084xx;', '845xx;', '414xx;',\n",
       "       '251xx;', '646xx;', '387xx;', '753xx;', '048xx;', '513xx;',\n",
       "       '884xx;', '831xx;', '094xx;', '694xx;', '046xx;', '408xx;',\n",
       "       '683xx;', '500xx;', '043xx;', '017xx', '682xx;', '771xx;',\n",
       "       '969xx;', '412xx;', '987xx;', '690xx;', '527xx;', '962xx;',\n",
       "       '039xx;', '311xx;', '692xx;', '555xx;', '120xx', '963xx;',\n",
       "       '506xx;', '100xx', '909xx;', '007xx;', '817xx;', '098xx;',\n",
       "       '964xx;', '942xx;', '502xx;'], dtype=object)"
      ]
     },
     "execution_count": 57,
     "metadata": {},
     "output_type": "execute_result"
    }
   ],
   "source": [
    "X_train['zip_code;'].unique()"
   ]
  },
  {
   "cell_type": "code",
   "execution_count": 58,
   "id": "25f4b22a",
   "metadata": {},
   "outputs": [
    {
     "data": {
      "text/plain": [
       "891"
      ]
     },
     "execution_count": 58,
     "metadata": {},
     "output_type": "execute_result"
    }
   ],
   "source": [
    "X_train['zip_code;'].nunique()"
   ]
  }
 ],
 "metadata": {
  "kernelspec": {
   "display_name": "Python 3 (ipykernel)",
   "language": "python",
   "name": "python3"
  },
  "language_info": {
   "codemirror_mode": {
    "name": "ipython",
    "version": 3
   },
   "file_extension": ".py",
   "mimetype": "text/x-python",
   "name": "python",
   "nbconvert_exporter": "python",
   "pygments_lexer": "ipython3",
   "version": "3.10.13"
  }
 },
 "nbformat": 4,
 "nbformat_minor": 5
}
