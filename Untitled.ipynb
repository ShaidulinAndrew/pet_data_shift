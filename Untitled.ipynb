{
 "cells": [
  {
   "cell_type": "code",
   "execution_count": 2,
   "id": "03398185",
   "metadata": {},
   "outputs": [
    {
     "name": "stdout",
     "output_type": "stream",
     "text": [
      "              title    type\n",
      "0          Car loan  credit\n",
      "1     Personal loan  credit\n",
      "2          Mortgage  credit\n",
      "3  Installment loan  credit\n",
      "4             Other  credit\n"
     ]
    }
   ],
   "source": [
    "\n",
    "import pandas as pd\n",
    "\n",
    "# Создаем пример DataFrame\n",
    "data = {'title': ['Car loan', 'Personal loan', 'Mortgage', 'Installment loan', 'Credit card'],\n",
    "        'type': ['credit', 'credit', 'credit', 'credit', 'credit']}\n",
    "df = pd.DataFrame(data)\n",
    "\n",
    "# Создаем маску, которая указывает, содержит ли каждое значение столбца 'title' ключевое слово 'credit'\n",
    "mask = df['title'].str.contains('credit', case=False)\n",
    "\n",
    "# Заменяем значения в строках, соответствующих маске, на новое значение 'Other'\n",
    "df.loc[mask, 'title'] = 'Other'\n",
    "\n",
    "print(df)"
   ]
  },
  {
   "cell_type": "code",
   "execution_count": null,
   "id": "d681f246",
   "metadata": {},
   "outputs": [],
   "source": []
  },
  {
   "cell_type": "code",
   "execution_count": null,
   "id": "f2215579",
   "metadata": {},
   "outputs": [],
   "source": []
  },
  {
   "cell_type": "code",
   "execution_count": null,
   "id": "8224b45e",
   "metadata": {},
   "outputs": [],
   "source": []
  },
  {
   "cell_type": "code",
   "execution_count": null,
   "id": "63e69232",
   "metadata": {},
   "outputs": [],
   "source": []
  },
  {
   "cell_type": "code",
   "execution_count": null,
   "id": "36eaca2e",
   "metadata": {},
   "outputs": [],
   "source": []
  }
 ],
 "metadata": {
  "kernelspec": {
   "display_name": "Python 3 (ipykernel)",
   "language": "python",
   "name": "python3"
  },
  "language_info": {
   "codemirror_mode": {
    "name": "ipython",
    "version": 3
   },
   "file_extension": ".py",
   "mimetype": "text/x-python",
   "name": "python",
   "nbconvert_exporter": "python",
   "pygments_lexer": "ipython3",
   "version": "3.10.13"
  }
 },
 "nbformat": 4,
 "nbformat_minor": 5
}
